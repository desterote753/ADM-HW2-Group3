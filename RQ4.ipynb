{
 "cells": [
  {
   "cell_type": "markdown",
   "id": "a8924934",
   "metadata": {},
   "source": [
    "[RQ4] Quirks questions about consistency. In most cases, we will not have a consistent dataset, and the one we are dealing with is no exception. So, let's enhance our analysis.\n",
    "\n",
    " - You should be sure there are no eponymous (different authors who have precisely the same name) in the author's dataset. Is it true?\n",
    "\n",
    " - Write a function that, given a list of author_id, outputs a dictionary where each author_id is a key, and the related value is a list with the names of all the books the author has written.\n",
    "\n",
    " - What is the longest book title among the books of the top 20 authors regarding their average rating? Is it the longest book title overall?\n",
    "\n",
    " - What is the shortest overall book title in the dataset? If you find something strange, provide a comment on what happened and an alternative answer."
   ]
  },
  {
   "cell_type": "markdown",
   "id": "d88f13e2",
   "metadata": {},
   "source": [
    "-------------------------------------------------------------------------------------------------------------------------------\n",
    "\n",
    "\n",
    "- You should be sure there are no eponymous (different authors who have precisely the same name) in the author's dataset. Is it true?\n",
    " \n",
    " If there is any eponymous (different authors who have precisely the same name) in the author's dataset we can check author's id and author's name and see if there are no mismatching.\n",
    "\n",
    "\n",
    "-------------------------------------------------------------------------------------------------------------------------------\n"
   ]
  },
  {
   "cell_type": "code",
   "execution_count": 7,
   "id": "bb514945",
   "metadata": {},
   "outputs": [
    {
     "name": "stdout",
     "output_type": "stream",
     "text": [
      "The eponymes are :\n",
      "              id               name\n",
      "290533   8550578     Boris Zakhoder\n",
      "175092  20971326     Boris Zakhoder\n",
      "175811  21011400    Caroline Miller\n",
      "27836     156110    Caroline Miller\n",
      "35188     220670  Catherine   Jones\n",
      "...          ...                ...\n",
      "228145   6525370      Yordan Yovkov\n",
      "171064  20862875          محمد نجيب\n",
      "134763   2864244          محمد نجيب\n",
      "224789   6456544              小野不由美\n",
      "289074   8472533              小野不由美\n",
      "\n",
      "[74 rows x 2 columns]\n"
     ]
    }
   ],
   "source": [
    "import pandas as pd\n",
    "import numpy as np\n",
    "import datetime\n",
    "import matplotlib.pyplot as plt\n",
    "\n",
    "df_author = pd.read_json('lighter_authors.json',lines= True)\n",
    "\n",
    "# filter columns we're interested in\n",
    "columns_to_keep = ['id', 'name']\n",
    "df = df_author[columns_to_keep]\n",
    "\n",
    "# Check for duplicates in the 'name' column\n",
    "duplicates = df[df['name'].duplicated(keep=False)]\n",
    "\n",
    "# filter duplicates and keep only those that doesn't have the same id\n",
    "filtered_duplicates = duplicates[~duplicates.duplicated(subset='id', keep=False)]\n",
    "\n",
    "# Sort the 'Data' column by alphabetical order\n",
    "filtered_duplicates = filtered_duplicates.sort_values(by='name')\n",
    "\n",
    "print(\"The eponymes are :\")\n",
    "print(filtered_duplicates)"
   ]
  },
  {
   "cell_type": "markdown",
   "id": "a5fcd826",
   "metadata": {},
   "source": [
    " - Write a function that, given a list of author_id, outputs a dictionary where each author_id is a key, and the related value is a list with the names of all the books the author has written."
   ]
  },
  {
   "cell_type": "code",
   "execution_count": 8,
   "id": "8c6f671f",
   "metadata": {},
   "outputs": [
    {
     "name": "stdout",
     "output_type": "stream",
     "text": [
      "{1077326: ['Harry Potter and the Order of the Phoenix (Harry Potter, #5)', \"Harry Potter and the Sorcerer's Stone (Harry Potter, #1)\", 'Harry Potter and the Chamber of Secrets (Harry Potter, #2)', 'Harry Potter and the Prisoner of Azkaban (Harry Potter, #3)', 'Harry Potter and the Goblet of Fire (Harry Potter, #4)', 'The Harry Potter Collection (Harry Potter, #1-6)', 'Harry Potter Boxed Set, Books 1-5 (Harry Potter, #1-5)', 'Harry Potter Collection (Harry Potter, #1-6)'], 4: [\"The Hitchhiker's Guide to the Galaxy (Hitchhiker's Guide to the Galaxy, #1)\", \"The Ultimate Hitchhiker's Guide: Five Complete Novels and One Story (Hitchhiker's Guide to the Galaxy, #1-5)\", \"The Ultimate Hitchhiker's Guide to the Galaxy (Hitchhiker's Guide to the Galaxy, #1-5)\", \"The Hitchhiker's Guide to the Galaxy (Hitchhiker's Guide to the Galaxy, #1)\", \"The Hitchhiker's Guide to the Galaxy (Hitchhiker's Guide to the Galaxy, #1)\", \"The Hitchhiker's Guide to the Galaxy: Quandary Phase (Hitchhiker's Guide: Radio Play, #4)\", \"The Ultimate Hitchhiker's Guide (Hitchhiker's Guide to the Galaxy, #1-5)\", \"The Hitchhiker's Guide to the Galaxy: Quintessential Phase (Hitchhiker's Guide: Radio Play, #5)\", 'The Long Dark Tea-Time of the Soul (Dirk Gently, #2)', \"Dirk Gently's Holistic Detective Agency (Dirk Gently, #1)\", 'The Salmon of Doubt (Dirk Gently, #3)', \"Mostly Harmless (Hitchhiker's Guide to the Galaxy, #5)\", \"Life, the Universe and Everything (Hitchhiker's Guide, #3)\", 'The Long Dark Tea-Time of the Soul (Dirk Gently, #2)', 'The Long Dark Tea-Time of the Soul (Dirk Gently, #2)', \"Dirk Gently's Holistic Detective Agency (Dirk Gently, #1)\", 'The Salmon of Doubt', 'The Salmon of Doubt: Hitchhiking the Galaxy One Last Time', 'The Salmon of Doubt: Hitchhiking the Galaxy One Last Time (Dirk Gently, #3)', 'Salmon of Doubt', 'The Salmon Of Doubt', 'Salmon of Doubt: Hitchhiking the Galaxy One Last Time'], 951394: [\"The Hitchhiker's Guide to Lean: Lessons from the Road\"], 7: ['A Short History of Nearly Everything', \"Bill Bryson's African Diary\", \"Bryson's Dictionary of Troublesome Words: A Writer's Guide to Getting It Right\", 'In a Sunburned Country', \"I'm a Stranger Here Myself: Notes on Returning to America After Twenty Years Away\", 'The Lost Continent: Travels in Small Town America', 'Neither Here nor There: Travels in Europe', 'Notes from a Small Island', 'The Mother Tongue: English and How It Got That Way'], 656983: ['J.R.R. Tolkien 4-Book Boxed Set: The Hobbit and The Lord of the Rings', 'The Lord of the Rings (The Lord of the Rings, #1-3)', 'The Lord of the Rings', 'The Lord of the Rings', 'The Fellowship of the Ring (The Lord of the Rings, #1)', 'The Lord of the Rings (The Lord of the Rings, #1-3)', 'The Lord of the Rings Box Set'], 5448409: ['The Lord of the Rings: Weapons and Warfare'], 10: ['The Lord of the Rings: Complete Visual Companion'], 4941: ['The Lord of the Rings'], 12: ['Cooking with Fernet Branca (Gerald Samper, #1)'], 5182666: ['Ruby Quickly: Ruby and Rails for the Real World'], 16: ['The Bucaneers'], 17: ['Bucaneer'], 18: [\"Hatchet (Brian's Saga, #1)\", 'El hacha', 'Guts: The True Stories behind Hatchet and the Brian Books'], 6169260: ['Molly Hatchet - 5 of the Best'], 20: ['Hatchet Jobs: Writings on Contemporary Fiction'], 23: ['A Changeling for All Seasons (Changeling Seasons #1)'], 24: ['Changeling (Changeling, #1)'], 25: ['The Changeling Sea'], 26: ['Changelings (The Twins of Petaybee, #1)'], 27: ['The Changeling', 'The Egypt Game'], 29: ['The Changeling'], 31: ['Shadows in the Starlight (Changeling Detective, #2)'], 32: ['The Changeling (Daughters of England, #15)'], 33: ['The Known World', 'The Known World', 'The Known World', 'The Known World'], 36: ['Traders, Guns & Money: Knowns and Unknowns in the Dazzling World of Derivatives'], 38: ['Artesia: Adventures in the Known World'], 40: ['The John McPhee Reader (John McPhee Reader, #1)', 'Uncommon Carriers', 'Heirs of General Practice', 'The Control of Nature', 'Annals of the Former World', 'Coming Into the Country', 'La Place de la Concorde Suisse', 'Giving Good Weight', 'The Second John McPhee Reader (John McPhee Reader, #2)', 'Rising from the Plains'], 41: ['Heidi'], 42: ['The Heidi Chronicles', \"The Heidi Chronicles: Uncommon Women and Others & Isn't It Romantic\"], 44: ['Pandering', \"The Player's Handbook: The Ultimate Guide on Dating and Relationships\"], 45: ['Love Your Handwriting (Creating Keepsakes)'], 46: ['Active Literacy Across the Curriculum: Strategies for Reading, Writing, Speaking, and Listening', 'Mapping the Big Picture: Integrating Curriculum & Assessment K-12', 'Getting Results with Curriculum Mapping'], 11872: [\"Always Enough: God's Miraculous Provision Among the Poorest Children on Earth\"], 49: ['Heidi (Heidi, #1-2)'], 50: ['Cinnamon and Roses (Rose Trilogy, #1)', 'Seven-Year Seduction'], 51: [\"There's Always Enough: The Miraculous Move of God in Mozambique\"], 52: ['The Birthdays'], 53: ['What to Expect the First Year (What to Expect)'], 54: ['Chasing Jordan'], 58: ['God Emperor of Dune (Dune Chronicles, #4)', 'Dune (Dune Chronicles, #1)', 'Chapterhouse: Dune (Dune #6)', 'Dune Messiah (Dune #2)', 'Heretics of Dune (Dune Chronicles, #5)', 'The Road to Dune', 'Dios emperador de Dune (Dune Chronicles, #4)', 'Children of Dune (Dune Chronicles #3)', 'Dune (Dune Chronicles, #1)', 'Dune Trilogy Box Set (Dune Chronicles, #1-3)', 'Worlds Beyond Dune Box', 'Heretics of Dune (Dune Chronicles #5)'], 56: ['Dreamer of Dune: The Biography of Frank Herbert', 'Hunters Of Dune (Dune Chronicles, #7)'], 57: [\"The Secrets of Frank Herbert's Dune\"], 1663914: ['The Dune Encyclopedia'], 9882336: ['The Battles of Dune'], 60: ['The Lord of the Rings: The Art of the Fellowship of the Ring'], 985482: ['The Trust: The Private and Powerful Family behind the New York Times', 'The Patriarch: The Rise and Fall of the Bingham Dynasty', 'The Trust: The Private and Powerful Family Behind The New York Times'], 63: ['The Power of One (The Power of One, #1)', 'The Power of One (The Power of One, #1)', 'The Power of One (The Power of One, #1)'], 923635: ['The Power of One: Daisy Bates and the Little Rock Nine'], 66: ['Powers Unlimited One: A Sourcebook for Heroes Unlimited (Heroes Unlimited, #1)'], 67: ['The Power of One Christlike Life'], 68: ['The Power of One: One Person, One Rule, One Month', 'The 21 Irrefutable Laws of Leadership Workbook: Follow Them and People Will Follow You', 'Leadership 101: What Every Leader Needs to Know'], 69: ['Power of an Hour: Business and Life Mastery in One Hour a Week'], 70: ['The Power of One: The Solo Play for Playwrights, Actors, and Directors'], 71: ['How to Buy, Sell & Profit on eBay: Kick-Start Your Home-Based Business in Just Thirty Days'], 76: ['Titanium eBay: A Tactical Guide to Becoming a Millionaire PowerSeller'], 77: ['eBay: Top 100 Simplified Tips & Tricks'], 78: ['Ruby Cookbook'], 80: ['Ruby Cookbook'], 82: ['Rails Cookbook: Recipes for Rapid Web Development with Ruby'], 128382: ['Anna Karenina', 'Anna Karenina', 'Anna Karenina', 'Anna Karenina', 'Anna Karenina', 'Anna Karenina', 'Anna Karenina', 'Great Short Works of Leo Tolstoy', 'The Death of Ivan Ilych and Other Stories', 'War and Peace', 'The Kingdom of God Is Within You', 'Walk in the Light & Twenty-Three Tales'], 87: ['Dinner with Anna Karenina'], 80185: ['The Dream Life of Sukhanov'], 90: ['Untouchable'], 91: ['The Untouchable', 'The Book of Evidence (The Freddie Montgomery Trilogy, #1)'], 92: ['The Untouchables'], 93: [\"Untouchables: My Family's Triumphant Journey Out of the Caste System in Modern India\"], 9793799: ['Dalit: The Black Untaouchables of India'], 11894: ['Growing Up Untouchable in India: A Dalit Autobiography'], 100: ['The Book of Evidence'], 11909: ['The Evidence-Based Social Work Skills Book'], 104: ['A Challenge to the Critics: Scholarly Evidences of the Book of Mormon'], 11952: ['Little Known Evidences of the Book of Mormon'], 115: ['Wrinkles in Time', 'Wrinkles in Time: Imprint of Creation'], 106: ['A Wrinkle in Time: With Related Readings (A Wrinkle in Time Quintet #1)', 'Un raccourci dans le temps', 'A Wrinkle in Time (A Wrinkle in Time Quintet, #1)', 'A Wrinkle in Time (A Wrinkle in Time Quintet, #1)', 'Una arruga en el tiempo – A Wrinkle in Time'], 113: ['Empress in the Wrinkle of Time: The Knight-King Chronicle'], 119: ['Literature Connections Sourcebook: A Wrinkle in Time and Related Readings'], 122: ['Decision & Responsibility: A Wrinkle in Time'], 10685776: ['A Wrinkle in Time: Teaching Unit', 'Lord of the Flies Activity Pack'], 128: ['The Long Shadow of Little Rock: A Memoir'], 129: ['The Long Shadow of Temperament'], 130: ['The Long Shadow (The Morland Dynasty, #6)'], 131: ['A Long Shadow (Inspector Ian Rutledge, #8)'], 12048: [\"Vicksburg's Long Shadow: The Civil War Legacy of Race and Remembrance\"], 133: ['Long Way Round: Chasing Shadows Across the World'], 13557729: ['A Shadow in Summer (Long Price Quartet, #1)'], 136: ['Long Shadows: Truth, Lies and History'], 3114972: ['The Collected Memoirs of Charles Willeford: I Was Looking for a Street/Something About a Soldier', 'New Hope for the Dead (Hoke Mosely #2)', 'Sideswipe', 'The Way We Die Now', 'Miami Blues (Hoke Moseley #1)', 'Charles Willeford Omnibus: Pick Up/Burnt Orange Heresy/Cockfighter', 'The Woman Chaser', 'The Machine in Ward Eleven', 'Wild Wives', 'The Shark-Infested Custard', 'The Black Mass of Brother Springer', 'Cockfighter', 'Sideswipe (Hoke Moseley, #3)', 'The Burnt Orange Heresy (Vintage Crime/Black Lizard)'], 3083854: ['I am Charlotte Simmons', 'I am Charlotte Simmons'], 142: ['The Complete Verse and Other Nonsense', 'The Complete Nonsense of Edward Lear', 'Poetry for Young People: Edward Lear', 'Later Letters of Edward Lear to Chichester Fortescue (Select Bibliographies Reprint Ser.))', 'An Edward Lear Alphabet', \"Edward Lear's Nonsense Verse\", 'A Was Once an Apple Pie', 'The Owl and the Pussycat', \"The Pobble Who Has No Toes (Edward Lear's Little Books of Nonsense)\"], 146: ['The Puffin Book of Nonsense Verse'], 147: ['Henry Miller on Writing', 'The Colossus of Maroussi', 'Quiet Days in Clichy', 'Big Sur and the Oranges of Hieronymus Bosch', 'Tropic of Cancer (Tropic, #2)', 'Tropic of Capricorn (Tropic, #1)', 'Nexus (The Rosy Crucifixion, #3)', 'Sexus (The Rosy Crucifixion, #1)', 'The Air-Conditioned Nightmare', 'The Time of the Assassins:  a Study of Rimbaud'], 149: ['Behavior in Public Places'], 151: [\"Public Places: My Life in the Theater, with Peter O'Toole and Beyond\"], 153: ['Squares: A Public Place Design Guide for Urbanists'], 159: ['The Portrait of a Lady', 'The Portrait of a Lady', 'The Portrait of a Lady', 'The Portrait of a Lady', 'The Portrait of a Lady', 'Portrait of a Lady', 'The Portrait of a Lady', 'The Portrait of a Lady', 'Daniel Deronda: A Conversation'], 163: ['The Lover', 'Hiroshima Mon Amour', 'Writing', 'The War', 'The Ravishing of Lol Stein', 'Destroy, She Said', \"L'Amour\", \"L'Amant de la Chine du Nord\"], 6466154: ['A Treasury of Kahlil Gibran', 'Love Letters', 'The Prophet', 'The Beloved: Reflections on the Path of the Heart', 'Jesus the Son of Man', 'The Broken Wings', 'Sand and Foam', 'The Wisdom Of Kahlil Gibran'], 168: ['Kahlil Gibran: His Life and World'], 854076: ['Treasure Island', 'Treasure Island', 'Treasure Island', 'Treasure Island', 'Treasure Island', 'Treasure Island', 'Treasure Island'], 173: ['Daniel Deronda', 'Daniel Deronda Notebooks', 'Daniel Deronda, V1'], 174: [\"George Eliot and Judaism: An Attempt to Appreciate 'Daniel Deronda'\"], 7464619: ['Disney'], 13450: ['One Hundred Years of Solitude', 'Cien años de soledad', 'Cien años de soledad', 'Cien años de soledad', 'One Hundred Years of Solitude', 'Collected Stories', 'Memories of My Melancholy Whores', 'El otoño del patriarca', 'Crónica de una muerte anunciada', 'Cien años de soledad', 'Del amor y otros demonios', 'Living to Tell the Tale', 'Memoria de mis putas tristes'], 185: [\"Cliffs Notes on Garcia Marquez' 100 Hundred Years of Solitude\"], 187: [\"Why Zebras Don't Get Ulcers\"], 188: ['Chess for Zebras'], 61105: ['On Beyond Zebra!'], 192: ['The Wedding Clause'], 193: ['The Zebra Wall'], 39402: ['El perfume. Historia de un asesino', 'Perfume: The Story of a Murderer'], 197: ['Jitterbug Perfume'], 1016946: ['Perfume Dreams: Reflections on the Vietnamese Diaspora'], 201: ['Essence and Alchemy: A Book of Perfume', 'Scents & Sensibilities: Creating Solid Perfumes for Well-Being'], 1017040: ['Perfume: The Art And Science of Scent'], 1021089: ['The Perfume Guide'], 205: ['Off the Main Sequence: The Other Science Fiction Stories of Robert A. Heinlein', 'The Door Into Summer', 'The Moon is a Harsh Mistress', 'Stranger in a Strange Land', 'Starman Jones', 'The Notebooks of Lazarus Long', 'Time Enough for Love', 'To Sail Beyond the Sunset', 'Job: A Comedy of Justice', 'Time for the Stars'], 16302898: ['Wish You Were Here: The Official Biography of Douglas Adams', 'Dictionary of Bullshit'], 209: [\"Douglas Adams's Starship Titanic\"], 211: ['Douglas Adams Starship Titanic: The Official Strategy Guide'], 214: ['The Phantom Tollbooth', 'La Caseta Magica (the Phantom Tollbooth)', 'The Phantom Tollbooth'], 219: ['On Bullshit'], 220: ['Another Bullshit Night in Suck City'], 221: ['100 Bullshit Jobs...And How to Get Them'], 1038639: ['Your Call Is Important to Us: The Truth About Bullshit'], 228: ['Lincoln at Gettysburg: The Words That Remade America'], 229: [\"Lincoln's Gettysburg Address in Translation\", 'The Gettysburg Address'], 232: [\"The Battle of Gettysburg and Lincoln's Gettyburg Address\"], 233: ['Underworld', 'Libra', 'Mao II', 'Americana', 'Running Dog', \"Ratner's Star\", 'Cosmopolis', 'Great Jones Street', 'The Names'], 236: [\"Don DeLillo's White Noise (Bloom's Modern Critical Interpretations)\", \"Thomas Pynchon (Bloom's Modern Critical Views)\", \"Paul Auster (Bloom's Modern Critical Views)\"], 235: ['Against the Day', 'V.', 'The Crying of Lot 49', \"Gravity's Rainbow\", 'Mason & Dixon', 'Vineland', \"Gravity's Rainbow\", 'Slow Learner: Early Stories'], 5606635: ['Been Down So Long It Looks Like Up To Me'], 238: ['Vintage Didion', 'The Year of Magical Thinking', 'The White Album', 'A Book of Common Prayer', 'Where I Was From', 'Slouching Towards Bethlehem', 'Democracy', 'We Tell Ourselves Stories in Order to Live: Collected Nonfiction', 'Miami', 'Play It As It Lays'], 239: ['Amazons: An Intimate Memoir by the First Woman Ever to Play in the National Hockey League', 'Amazons'], 296961: ['The New York Trilogy', 'City of Glass (The New York Trilogy, #1)', 'The New York Trilogy: City of Glass / Ghosts / The Locked Room', 'Ghosts (The New York Trilogy, #2)', 'The Locked Room (The New York Trilogy, #3)', 'La trilogía de Nueva York', 'The Brooklyn Follies', 'Moon Palace', 'Timbuktu', 'True Tales of American Life', 'The Invention of Solitude: A Memoir', 'The Music of Chance', 'Travels in the Scriptorium', 'In the Country of Last Things', 'Leviathan', \"Auggie Wren's Christmas Story\", 'Oracle Night', 'The Random House Book of 20th Century French Poetry', \"Paul Auster's New York - Promo: Mak.of Amer\", 'The Inner Life of Martin Frost', 'Disappearances', 'The Red Notebook: True Stories', 'Collected Poems', 'Timbuktu / Leviathan / Moon Palace', 'El libro de las ilusiones', 'The Art of Hunger: Essays, Prefaces, Interviews, The Red Notebook', 'Why Write?'], 243: ['New York Dreams (Virex Trilogy, #3)', 'New York Nights (Virex Trilogy, #1)', 'New York Blues (Virex Trilogy)'], 248: ['All My Tomorrows (The Orphan Trains Trilogy, #2)'], 5798517: ['A Tomb for Anatole: Poetry'], 28996: [\"Neon Lit: Paul Auster's City of Glass\"], 256: ['Collapse: How Societies Choose to Fail or Succeed', 'Collapse'], 257: ['The Coming Economic Collapse: How You Can Thrive When Oil Costs $200 a Barrel'], 20895: ['Collapse of Complex Societies'], 260: ['Bowling Alone: The Collapse and Revival of American Community'], 140088: [\"The Collapse of the Common Good: How America's Lawsuit Culture Undermines Our Freedom\"], 265: ['Armageddon Averted: The Soviet Collapse, 1970-2000'], 267: [\"Reinventing the Enemy's Language: Contemporary Native Women's Writings of North America\"], 1668748: ['Along The Clipper Way', 'Along The Clipper Way'], 278: ['The Fantastic Inventions of Nikola Tesla', 'My Inventions', 'Tesla Papers', 'Problem of Increasing Human Energy'], 5386592: ['The Lost Journals of Nikola Tesla: HAARP - Chemtrails and the Secret of Alternative 4'], 283: ['The Tesla Rotating Magnetic Field'], 287: ['The Invention of Peace: Reflections on War and International Order'], 289: ['The Invention of Tradition'], 293: ['The Invention of Love'], 294: ['Sliding Into Home'], 7062918: ['Boys of Summer'], 302: ['Rails Recipes'], 715981: ['No Fluff, Just Stuff Anthology'], 306: ['Lord of the Flies', 'Lord of the Flies', 'Lord of the Flies', 'Lord of the Flies'], 6460726: ['Lord of the Flies (SparkNotes Literature Guides)', 'Of Mice and Men (SparkNotes Literature Guide)'], 15262: ['A War Like No Other: How the Athenians & Spartans Fought the Peloponnesian War'], 313: ['Like No Other'], 6237705: ['We Were Not Like Other People'], 316: ['The Lovely Bones', 'The Lovely Bones', 'The Lovely Bones'], 317: ['Lovely in Her Bones (Elizabeth MacPherson, #2)'], 7131394: ['Storage Area Network Essentials: A Complete Guide to Understanding and Implementing Sans'], 337: ['The Last Gentleman (Modern Library)'], 342: ['Head First HTML with CSS & XHTML'], 348: ['CSS Pocket Reference', 'Eric Meyer on CSS: Mastering the Language of Web Design with Cascading Style Sheets'], 346: ['The CSS Anthology', 'HTML Utopia'], 347: ['HTML, XHTML, and CSS (Visual Quickstart Guide)'], 6158357: [\"Michelin's Charming Places to Stay in France 2003: 1000 Hotels & Guesthouses for Less Than 80 Euros\"], 360: ['100 Albums That Changed Music: And 500 Songs You Need to Hear'], 361: ['1000 Families'], 364: ['The Art of Rock: Posters from Presley to Punk', 'Art of Modern Rock: The Poster Explosion'], 375: ['Killing Yourself to Live: 85% of a True Story', 'Killing Yourself To Live', 'Sex, Drugs, and Cocoa Puffs: A Low Culture Manifesto'], 377: ['Sex, Drugs & Economics: An Unconventional Introduction to Economics'], 378: ['Sex, Drugs, Rock and Roll'], 380: ['Reefer Madness: Sex, Drugs, and Cheap Labor in the American Black Market', 'Fast Food Nation: The Dark Side of the All-American Meal', 'Fast Food Nation: The Dark Side of the All-American Meal', 'Fast Food Nation: What The All-American Meal is Doing to the World', 'Fast Food Nation: The Dark Side of the All-American Meal', 'Fast Food/ Fast Food Nation (Actualidad)', 'Fast Food Nation: What the All-American Meal Is Doing to the World'], 382: ['Life and Def: Sex, Drugs, Money, + God'], 386: ['Grand Theft Auto: Vice City Official Strategy Guide (Bradygames Signature Guides)', 'Grand Theft Auto: Vice City Official Strategy Guide for PC'], 13260332: ['Grand Theft Auto: Vice City Stories Official Strategy Guide'], 389: [\"An ABC of Vice: An Insatiable Women's Guide, Alphabetized\"], 393: ['Vice & Virtue in Everyday Life: Introductory Readings in Ethics'], 395: ['Vice (V, #8)'], 397: ['Small Vices (Spenser, #24)'], 401: ['Zen and the Art of Motorcycle Maintenance: An Inquiry Into Values (Phaedrus, #1)'], 403: ['The Mouse and the Motorcycle'], 76172: ['The Motorcycle Diaries: Notes on a Latin American Journey'], 411: ['Once Upon a Cool Motorcycle Dude'], 419: ['No Logo'], 429: ['Tolstoy Lied: A Love Story'], 430: ['The Poet of Tolstoy Park'], 432: ['Atlas Shrugged', 'For the New Intellectual: The Philosophy of Ayn Rand', 'The Fountainhead', 'The Virtue of Selfishness: A New Concept of Egoism', 'Anthem', 'We the Living', 'Capitalism: The Unknown Ideal', 'Letters of Ayn Rand', 'Philosophy, Who Needs It / Ayn Rand: In'], 435: ['The Complete Sailor: Learning the Art of Sailing'], 438: ['Sailing Alone Around the Room: New and Selected Poems'], 444: ['Natural Cures \"They\" Don\\'t Want You to Know about', 'More Natural Cures Revealed'], 445: ['Natural Capitalism'], 447: ['The Natural'], 451: ['Natural Resource Conservation: Management for a Sustainable Future'], 455: ['The Book of Probes'], 457: ['Digging to America'], 458: ['America: A Concise History, Volume 2: Since 1865'], 462: ['Modern Latin America'], 463: ['The Plot Against America'], 464: ['Covenant with Black America'], 465: ['Democracy in America'], 466: [\"America (The Book): A Citizen's Guide to Democracy Inaction\", 'Naked Pictures of Famous People'], 1035109: [\"Kierkegaard's Relations to Hegel Reconsidered\"], 4351255: ['Econometrics'], 467: ['Swiss Graphic Design: The Origins and Growth of an International Style, 1920-1965'], 471: ['The Art of Structural Design: A Swiss Legacy'], 6487153: ['The Guitar Chord Wheel Book: Over 22,000 Chords!', 'Red Hot Chili Peppers', 'Picture Chord Encyclopedia: Photos and Diagrams for 2,600 Guitar Chords!', \"Children's Songs: Guitar Chord Songbook\", 'Guitar Chord Songbook: Classic Rock'], 360210: ['Rumores de Mar'], 509: ['The Elegant Universe: Superstrings, Hidden Dimensions, and the Quest for the Ultimate Theory', 'The ELEGANT UNIVERSE S.S.'], 513: ['Buddhism Pure and Simple'], 3849910: ['Pure and Simple: The Extraordinary Teachings of a Thai Buddhist Laywoman'], 515: ['Buddhism Plain and Simple', 'Buddhism Is Not What You Think: Finding Freedom Beyond Beliefs'], 519: ['The Path to Buddha: A Tibetan Pilgrimage'], 522: ['Now Zen'], 437467: ['The Rough Guide to Walks in London and Southeast England'], 6980602: ['London: City Guide (Lonely Planet City Guide)', 'Best of London (Lonely Planet Best Of)', 'London', 'Lonely Planet Londres', 'Lonely Planet Londres', 'Out to Eat London 2001 (Lonely Planet)', 'Out to Eat London 2002 (Lonely Planet Out to Eat)', 'Lonely Planet Londres', 'Lonely Planet Londres', 'Lo mejor de Londres (Lonely Planet Best Of)'], 8438323: ['Three Nights in August: Strategy, Heartbreak, and Joy Inside the Mind of a Manager'], 545: ['Cryptonomicon', 'Le Code Enigma (Cryptonomicon, #1)', 'Cryptonomicon', 'Cryptonomicon', 'Golgotha (Cryptonomicon, #3)', 'Le Réseau Kinakuta (Cryptonomicon, #2)', 'The Confusion (The Baroque Cycle, #2)', 'Quicksilver (The Baroque Cycle, #1)', 'The Cobweb', 'Zodiac', 'The Big U', \"The Diamond Age: Or, a Young Lady's Illustrated Primer\", 'Interface', 'Odalisque (The Baroque Cycle, Vol. 1, Book 3)', 'Snow Crash', 'Snow Crash'], 549: [\"Harrington on Hold 'em: Expert Strategy for No-Limit Tournaments, Volume II: The Endgame\", \"Harrington on Hold 'em: Expert Strategy for No-Limit Tournaments, Volume I: Strategic Play\"], 552: ['The Design of Everyday Things', 'Emotional Design: Why We Love (or Hate) Everyday Things', 'The Psychology of Everyday Things', 'Emotional Design: Why We Love (Or Hate) Everyday Things'], 3084882: [\"9/11 Descent Into Tyranny: The New World Order's Dark Plans to Turn Earth Into a Prison Planet\"], 4429527: ['No Price Too High: A Pentecostal Preacher Becomes Catholic - The Inspirational Story of Alex Jones as Told to Diane Hanson', 'A More Perfect Way'], 4098147: ['Creative Thought Remedies', 'Noise', 'Seven Mansions of Color', 'Fields of Gold'], 559: ['The Syndicate: Volumes 1 & 2'], 349: ['Web Standards Solutions: The Markup and Style Handbook'], 260713: ['Justitiemord: Fallet Keith Cederholm'], 566: ['The Alchemist', 'The Alchemist', 'The Illustrated Alchemist: A Fable about Following Your Dream', 'The Pilgrimage: A Contemporary Quest for Ancient Wisdom', 'The Valkyries', 'Warrior of the Light', 'The Zahir', 'By the River Piedra I Sat Down and Wept', 'The Fifth Mountain', 'Eleven Minutes', 'Veronika Decides to Die'], 4698899: ['Fullmetal Alchemist, Vol. 9 (Fullmetal Alchemist, #9)', 'Fullmetal Alchemist, Vol. 3 (Fullmetal Alchemist, #3)', 'Fullmetal Alchemist, Vol. 8 (Fullmetal Alchemist, #8)', 'Fullmetal Alchemist, Vol. 1 (Fullmetal Alchemist, #1)', 'Fullmetal Alchemist, Vol. 4 (Fullmetal Alchemist, #4)', 'Fullmetal Alchemist, Vol. 2 (Fullmetal Alchemist, #2)'], 569: ['The Kite Runner'], 571: [\"Bookclub in a Box Discusses Khaled Hosseini's Novel The Kite Runner\"], 573: ['Una semana de invierno'], 575: ['Pompeii'], 176378: ['Pompeii . . . Buried Alive!'], 578: ['Pompeii: Lost and Found'], 44512: ['The Last Days of Pompeii'], 585: ['Of Mice and Men', 'Of Mice and Men', 'Of Mice and Men', 'Of Mice and Men', 'Of Mice and Men', 'Of Mice and Men'], 586: [\"Cliffsnotes on Steinbeck's of Mice and Men\"], 588: ['The Game: Penetrating the Secret Society of Pickup Artists'], 589: [\"Ender's Game (Ender's Saga, #1)\"], 10074: ['The Westing Game'], 593: ['The Inner Game of Tennis: The Classic Guide to the Mental Side of Peak Performance'], 596: [\"Jim Cramer's Real Money: Sane Investing in an Insane World\", \"Jim Cramer's Mad Money: Watch TV, Get Rich\"], 600: ['Rich Dad, Poor Dad', 'Rich Dad Poor Dad Classics - Boxed Set', \"Rich Dad, Poor Dad 2: Cash Flow Quadrant - Rich Dad's Guide to Financial Freedom\"], 603: ['A Lonely Resurrection (John Rain, #2)', 'A Clean Kill in Tokyo (John Rain, #1)', 'Winner Take All (John Rain, #3)', 'The Last Assassin (John Rain, #5)', 'Sicario (John Rain, #1)', 'Blood From Blood (John Rain, #2)', 'La Chute de John R.', 'One Last Kill (John Rain, #4)', 'Chuva Forte'], 605: ['Hard Rain'], 607: ['Hard Rain'], 609: ['Hard Rain: Our Head Long Collision with Nature'], 613: ['The Rain Falls Like Rain: Poems', 'The Rain Falls Like Rain: Poems'], 614: ['Memoirs of a Geisha', 'Memoirs of a Geisha', 'Memoirs of a Geisha', 'Memoirs of a Geisha', 'Memoirs Of A Geisha', 'Memoirs of a Geisha'], 16464803: ['Memoirs of a Geisha: A Portrait of the Film'], 617: ['Geisha of Gion'], 619: ['How To Get Laid: The Rules On How To Succeed With Women And How To Make Anyone Fall In Love With You'], 621: ['Love As A Foreign Language #5'], 622: ['Los 5 Lenguajes Del Amor De Los Ninos / The Five Languages Of Love For Children', 'Marriage Special Package- 2 books- Five Love Languages/Fight Fair', \"The Five Love Languages: Men's Edition: How to Express Heartfelt Commitment to Your Mate\", 'The Five Love Languages of Children', 'Cinco Lenguajes del Amor Para Solteros, Los: Five Love Languages for Singles', 'The Five Love Languages of Teenagers', 'The 5 Love Languages / The 5 Love Languages Journal', \"The Five Love Languages: Men's Edition: How to Express Heartfelt Commitment to Your Mate\", 'Five Love Languages Journal: How To Express Heartfelt Commitment To Your Mate', 'The Five Love Languages', 'Los Cinco Lenguajes Del Amor/the Five Languages of Love'], 623: ['Jungle Love', 'Jungle Love'], 625: ['First Impressions'], 630: ['Angels & Demons (Robert Langdon, #1)', 'Ángeles y demonios (Robert Langdon, #1)', 'Angeles & Demonios', 'The Da Vinci Code (Robert Langdon, #2)', 'The Da Vinci Code', 'Da Vinci Code (Robert Langdon, #2)', 'Deception Point', 'Deception Point', 'Deception Point', 'Deception Point', 'Deception Point', 'حقيقة الخديعة', 'Deception Point', 'Deception Point'], 4939: ['Angels and Demons: What Do We Really Know About Them?'], 632: ['Angels, Demons & Gods of the New Millenium: Musings on Modern Magick'], 634: ['Secrets of Angels and Demons'], 640: ['The Truth Behind the Da Vinci Code: A Challenging Response to the Bestselling Novel'], 641: ['Who Can Crack the Leonardo Da Vinci Code? (Museum of Adventures, #1)'], 642: ['The Da Vinci Code: Fact or Fiction?'], 644: ['Point Deception (Cape Perdido, #1)'], 14170316: ['A Killing Rain (Louis Kincaid, #6)', 'A Killing Rain (Louis Kincaid, #6)'], 319699: ['A Killing Rain: The Global Threat of Acid Precipitation'], 651: ['A Storm Without Rain: A Novel in Time'], 1353301: ['Eye of the Storm (Hudson, #3)'], 654: ['Storm in a Rain Barrel'], 659: [\"The Millionaire Next Door: The Surprising Secrets of America's Wealthy\", 'The Millionaire Next Door: The Surprising Secrets of Americas Wealthy', 'Millionaire Women Next Door: The Many Journeys of Successful American Businesswomen', 'Millionaire Women Next Door: The Many Journeys of Successful American Businesswomen', \"The Millionaire Next Door: The Surprising Secrets of America's Wealthy\"], 399: ['Think and Grow Rich', 'Think and Grow Rich: The Landmark Bestseller Now Revised and Updated for the 21st Century', 'Think and Grow Rich!', 'Think and Grow Rich', 'Think and Grow Rich', 'The Think and Grow Rich Action Pack', 'Think and Grow Rich', 'Think and Grow Rich', 'Think and Grow Rich: Instant Motivator'], 668: ['Bodies of Subversion: A Secret History of Women and Tattoo'], 669: ['Politics of Subversion'], 671: ['Recovering Subversion: FEMINIST POLITICS BEYOND THE LAW'], 1351889: ['Read My Lips: Sexual Subversion and the End of Gender'], 676: ['Trump: Think Like a Billionaire: Everything You Need to Know About Success, Real Estate, and Life', 'Trump: The Art of the Deal', 'Trump: How to Get Rich', 'Trump: The Way to the Top: The Best Business Advice I Ever Received', 'Trump', 'Trump: Surviving at the Top', 'How to Build a Fortune [With CD-ROM with Workbook and Trump Cards and DVD]', 'Real Estate Goldmine: How to get Rich Investing in Pre-Foreclosures (Audio Business Course)', 'Trump: The Best Real Estate Advice I Ever Received: 100 Top Experts Share Their Strategies'], 681: [\"I Ain't Scared of You: Bernie Mac on How Life Is\", 'Maybe You Never Cry Again'], 682: ['Bernie Mac'], 6538881: [\"Riches in Real Estate: A Beginner's Guide to Group Investing\"], 688: ['The Richest Man in Babylon', 'The Richest Man in Babylon', 'The Richest Man in Babylon: 2the Success Secrets of the Ancients', 'The Richest Man in Babylon: The Success Secrets of the Ancients', 'The Richest Man In Babylon'], 691: ['Shibumi', 'Trevanian: Four Complete Novels: The Eiger Sanction / The Loo Sanction / The Main / Shibumi', 'Shibumi', 'Shibumi', 'Shibumi', 'Shibumi', 'Shibumi'], 692: ['Shibumi and the Kitemaker'], 6281688: ['1776'], 13459183: ['1776'], 695: ['The Fate of Empire, 1776-2000 (A History of Britain, #3)'], 8305468: ['Delaware 1638-1776 (Voices from Colonial America)'], 188850: ['The Crescent Obscured: The United States and the Muslim World, 1776-1815'], 701: ['If You Were There in 1776'], 702: ['Gap Creek', 'Gap Creek'], 704: ['The Good Earth (House of Earth, #1)', 'The Good Earth', 'Good Earth'], 705: ['For the Good of the Earth and Sun: Teaching Poetry'], 709: ['Walk Gently This Good Earth'], 711: ['The Purpose-Driven Life', 'Daily Inspiration for the Purpose Driven Life: Scriptures and Reflections from the 40 Days of Purpose', 'Purpose Driven Life - For Commuters: What on Earth Am I Here For?', 'Purpose Driven Life Journal: What on Earth Am I Here For?', 'Purpose Driven Life', 'Daily Inspiration for the Purpose Driven Life'], 55505: ['A Catholic Perspective On The Purpose Driven Life'], 713: ['Snow Flower and the Secret Fan'], 721: ['The Broker'], 722: ['The Power Broker: Robert Moses and the Fall of New York'], 12459: ['The Power Broker: A Novel (Christian Gillette, #3)'], 733: [\"Body for Life for Women: A Woman's Plan for Physical and Mental Transformation\", 'Body for Life for Women: 12 Weeks to a Firm, Fit, Fabulous Body at Any Age'], 739: ['The Warren Buffett Way', 'The Warren Buffett Portfolio: Mastering the Power of the Focus Investment Strategy', 'Warren Buffett'], 740: ['Trade Like Warren Buffett'], 741: [\"Warren Buffett Speaks: Wit and Wisdom from the World's Greatest Investor\", \"Warren Buffett Speaks: Wit and Wisdom of the World's Greatest Investor\", 'Damn Right!: Behind the Scenes with Berkshire Hathaway Billionaire Charlie Munger'], 742: ['How to Think Like Benjamin Graham and Invest Like Warren Buffett'], 756: ['Los Ensayos De Warren Buffett', 'Die Essays Von Warren Buffett'], 762: ['Buffett: The Making of an American Capitalist'], 765: ['Monkey Business'], 768: ['Hank the Cowdog and Monkey Business (Hank the Cowdog, #14)'], 769: ['Junie B. Jones and a Little Monkey Business (Junie B. Jones, #2)'], 771: ['Monkey Business'], 5034674: ['Monkey Business'], 776: [\"Liar's Poker\", \"Liar's Poker\", \"Liar's Poker\", 'Liars Poker Rising Through The Wreckage/International Edition', 'Moneyball: The Art of Winning an Unfair Game'], 779: [\"Liar's Poker: A Harry Garnish Mystery\"], 781: ['Simply Italian: 100 Easy-To-Make, Zesty, Satisfying Favorites'], 785: ['Simply Italian'], 792: [\"Giada's Family Dinners\", 'Everyday Italian: 125 Simple and Delicious Recipes', 'Everyday Pasta'], 796: ['Semi-Homemade: Cooking 2'], 798: ['Freakonomics: A Rogue Economist Explores the Hidden Side of Everything', 'Freakonomics: A Rogue Economist Explores The Hidden Side Of Everything', 'Freakonomics: Un economista políticamente incorrecto explora el lado oculto de lo que nos afecta', 'Freakonomics: A Rogue Economist Explores the Hidden Side of Everything', 'Freakonomics: A Rogue Economist Explores the Hidden Side of Everything', 'Freakonomics  - O Estranho Mundo da Economia'], 802: [\"Gentleman's Guide to Grooming and Style\", \"Gentleman's Guide to Grooming and Style\"], 811: ['Life of Pi', 'Vida de Pi', 'Life of Pi', 'Life of Pi', \"L'Histoire de Pi\"], 815: ['The Shadow of the Wind (The Cemetery of Forgotten Books, #1)', 'The Shadow of the Wind', 'La sombra del viento (El cementerio de los libros olvidados, #1)'], 817: ['In the Shadow of the Wind'], 818: ['Shadows on the Wind'], 819: [\"Freedom's Shadow\"], 822: ['A Million Little Pieces'], 828: ['Leadership and Self-Deception: Getting Out of the Box'], 829: ['Primal Leadership: Learning to Lead with Emotional Intelligence'], 831: ['Leadership Is an Art'], 1060: ['The Leadership Pipeline: How to Build the Leadership-Powered Company'], 836: ['Grand Illusion: The Untold Story of Rudy Giuliani and 9/11', 'Rudy! An Investigative Biography Of Rudolph Giuliani'], 847: ['Rudolph Giuliani'], 848: ['Men Are from Mars, Women Are from Venus', 'Men Are from Mars, Women Are from Venus: A Practical Guide for Improving Communication and Getting What You Want in Relationships', 'Mars and Venus Book of Days: 365 Inspriations to Enrich Your Relationships', 'Men are from Mars, Women are from Venus', 'Men Are from Mars, Women Are from Venus: Secrets of Passion/Audio Cassette', 'Men Are From Mars, Women Are From Venus: A Practical Guide For Improving Communication and Getting What You Want', 'Men Are from Mars, Women Are from Venus', 'Children Are from Heaven: How to Have Strong, Confident Children'], 849: ['Freddy and the Men from Mars'], 855: ['J.K.Lasser Pro Real Estate Investment Trusts: New Strategies for Portfolio Management'], 858: ['Kiowa Trail'], 861: [\"The Clan of the Cave Bear (Earth's Children, #1)\", \"The Clan of the Cave Bear (Earth's Children, #1)\", \"The Clan of the Cave Bear, Part 1 of 2 (Earth's Children, #1)\", \"The Clan of the Cave Bear, Part 2 of 2 (Earth's Children, #1)\"], 863: ['The Bad Guys Won!'], 86680: ['Juiced Official Strategy Guide'], 865: ['The 48 Laws of Power', 'The Exp 48 Laws of Power'], 867: ['Gates of Fire', 'Gates of Fire', 'Gates of Fire: An Epic Novel of the Battle of Thermopylae', 'The Afghan Campaign', 'The Virtues of War: A Novel of Alexander the Great', 'Tides of War', 'Last of the Amazons', 'The War of Art: Break Through the Blocks & Win Your Inner Creative Battles', 'CONQUISTA DE ALEJANDRO MAGNO,'], 869: ['Fire Sea (The Death Gate Cycle, #3)'], 870: ['Memory of Fire (The World Gates, #1)'], 872: ['Through Gates of Fire: A Journey into World Disorder'], 873: ['The Gate of Fire (Oath of Empire #2)'], 874: ['Gates of Fire'], 879: ['Phaedrus', 'Phaedrus', 'Symposium/Phaedrus', 'Phaedrus and Letters VII and VIII', 'Phaedrus', 'Phaedrus', \"Plato's Erotic Dialogues: Symposium/Phaedrus\", 'Euthyphro. Apology. Crito. Phaedo. Phaedrus.', 'Parmenides, Philebus, Symposium, Phaedrus, Alcibiades I and II, Hipparchus, Amatores', 'Lysis/Phaedrus/Symposium: Plato on Homosexuality', 'On Love: Lysis/Symposium/Phaedrus/Alcibiades/Selections from Republic & Laws', 'Gorgias/Phaedrus (Agora)', 'Phaedrus', 'Phaedrus', 'Statesman', 'Cratylus', 'Gorgias', 'Gorgias', 'Gorgias', 'Lysis/Symposium/Gorgias', 'Gorgias'], 2157: ['Babrius and Phaedrus: Fables (Loeb Classical Library #436)'], 885: ['Enthusiasm and Divine Madness'], 889: ['Telling Tales on Caesar: Roman Stories from Phaedrus', 'The Fables of Phaedrus', 'Fables from Phaedrus'], 15018939: ['Rhetoric and Reality in Plato\\'s \"phaedrus\"'], 3970632: ['The Platonism of Marsilio Ficino: A Study of His Phaedrus Commentary, Its Sources and Genesis'], 5622822: ['Encomium of Helen'], 901: ['The Histories', 'The Histories', 'The History (Great Minds)', 'The Histories', 'The Histories', 'The Histories', 'The Histories', 'The History', 'The Persian War (Translations from Greek & Roman Authors)'], 903: ['The Iliad', 'The Iliad', 'Iliad', 'The Iliad', 'The Iliad/The Odyssey', 'The Iliad', 'The Iliad', 'The Essential Iliad', 'The Iliad', 'The Odyssey', 'The Odyssey', 'The Odyssey', 'The Odyssey', 'The Odyssey', 'Odyssey'], 908: ['An Iliad'], 915: ['Earth Odyssey: Around the World in Search of Our Environmental Future'], 919: ['Aeneid: Selections from Books 1, 2, 4, 6, 10, 12', 'Aeneid: Books I-VI', \"Vergil's Aeneid, 10 & 12: Pallas & Turnus (Latin Edition) (Bks. 10) (Bks. 10 & 12)\", 'Aeneid: Hero, War, Humanity', \"Vergil's Aeneid: Books I-VI\", 'Eclogues. Georgics. Aeneid: Books 1-6', 'Eclogues and Georgics', 'The Eclogues and The Georgics', '<I>Eclogues</I> and  <I>Georgics</I> of Virgil', 'The Eclogues of Virgil: A Translation'], 18061436: ['Midwest Eclogue'], 930: [\"Paul Kirk's Championship Barbecue Sauces: 175 Make-Your-Own Sauces, Marinades, Dry Rubs, Wet Rubs, Mops and Salsas\"], 2985951: ['The Dry Danube: A Hitler Forgery'], 947: ['The Riverside Shakespeare', 'World of Shakespeare: The Complete Plays and Sonnets of William Shakespeare (38 Volume Library)', 'The Norton Shakespeare', 'The Complete Pelican Shakespeare', 'Complete Works of William Shakespeare', 'The Complete Works', 'Hamlet', 'The Oxford Shakespeare: The Complete Works', \"Shakespeare Set Free: Teaching Romeo & Juliet, Macbeth & Midsumr Night'\", 'Hamlet', 'Hamlet', 'Hamlet', 'Hamlet (Norton Critical Edition)', \"Shakespeare's Hamlet\"], 956: [\"Hamlet's Mill: An Essay Investigating the Origins of Human Knowledge and Its Transmission Through Myth\"], 957: ['History of the Peloponnesian War: Bk. 1-2', 'On Justice, Power and Human Nature: Selections from The History of the Peloponnesian War', 'The Peloponnesian War, Bk. 2', 'Thucydides Reader: Annotated Passages from Books I-VIII of the Histories', 'History of the Peloponnesian War: Bk. 5-6', 'The Peloponnesian War', 'Historiae, Vol. 2', 'The Peloponnesian War', 'History of the Peloponnesian War, Bk. 7-8'], 958: ['Thucydides: An Introduction for the Common Reader'], 52265: ['Thucydides'], 965: ['Once Again for Thucydides: Fiction'], 968: ['Apologies to Thucydides: Understanding History as Culture and Vice Versa'], 326484: ['Thucydides'], 973: ['Euripides I: Alcestis / The Medea / The Heracleidae / Hippolytus', 'Euripides V: Electra / The Phoenician Women / The Bacchae', 'Euripides: Ten Plays', 'Euripides IV: Rhesus / The Suppliant Women / Orestes / Iphigenia in Aulis', 'Ten Plays', 'Euripides III: Hecuba / Andromache / The Trojan Women / Ion (Complete Greek Tragedies, #7)', 'Bacchae', 'Euripides II: The Cyclops / Heracles / Iphigenia in Tauris / Helen', 'Three Plays of Euripides: Alcestis, Medea, the Bacchae', 'Electra and Other Plays', 'Medea and Other Plays', 'Cyclops / Alcestis / Medea', 'Medea', 'The Bacchae and Other Plays', 'Four Plays: Medea / Hippolytus / Heracles / Bacchae', 'The Bacchae of Euripides', 'Bakkhai', 'Plays 1: Medea/The Phoenician Women/Bacchae', 'Elektra', 'Medea - Literary Touchstone Classic', 'The Trojan Women and Other Plays', 'Hippolytus', 'The Trojan Women and Hippolytus', 'Orestes and Other Plays', 'Cyclops', 'Children of Heracles / Hippolytus / Andromache / Hecuba', 'Bacchae (Plays of Euripides)', 'Alcestis', 'Suppliant Women / Electra / Heracles', 'Iphigenia in Aulis', 'Three Great Plays: Medea / Hippolytus / Helen', 'Helen', 'Medea', 'Hecuba: Introduction, Text, and Commentary', 'The Electra of Euripides', 'Electra', 'Hippolytos', 'Trojan Women / Iphigenia Among the Taurians / Ion', 'Helen / Phoenician Women / Orestes', 'Euripides: Iphigenia at Aulis (Companions to Greek & Roman Tragedy)', 'The Hippolytus of Euripides', 'The Bacchae of Euripides: A New Translation with a Critical Essay', 'The Complete Greek Tragedies, Volume 3: Euripides'], 34336: ['Grief Lessons: Four Plays by Euripides'], 978: ['The Bacchae of Euripides: A Communion Rite'], 990: ['Aeschylus I: Oresteia (Agamemnon, The Libation Bearers, The Eumenides)', 'Aeschylus II: The Suppliant Maidens, The Persians, Seven against Thebes, and Prometheus Bound (The Complete Greek Tragedies)', 'The Oresteia', 'The Oresteia: Agamemnon, The Libation Bearers, The Eumenides', 'Oresteia', 'Suppliant Maidens/Persians/Prometheus/Seven Against Thebes (Loeb Classical Library 145)', 'Prometheus Bound and Other Plays', 'Agamemnon (Oresteia, #1)', 'The Oresteia', 'Aeschylus, 1: The Oresteia: Agamemnon/The Libation Bearers/The Eumenides', 'The Complete Greek Tragedies, Volume 1: Aeschylus', 'Aeschylus: Seven Plays (The Greek Classics)', \"The Oresteia: Agamemnon, Choephoroe & Eumenides (Everyman's Library, No. 260)\", 'Aeschylus 2: The Persians/Seven Against Thebes/The Suppliants/Prometheus Bound', 'The Oresteia Trilogy: Agamemnon/The Libation-Bearers/The Furies', 'The Suppliant Maidens/The Persians/Seven against Thebes/Prometheus Bound', 'Oresteia'], 1002: ['Sophocles I: Oedipus The King, Oedipus at Colonus, Antigone (The Complete Greek Tragedies, #8)', 'Sophocles II: Ajax / Women of Trachis / Electra / Philoctetes (Complete Greek Tragedies, #4)', 'The Oedipus Plays of Sophocles: Oedipus the King; Oedipus at Colonus; Antigone', 'The Complete Plays', 'The Complete Plays of Sophocles', 'The Oedipus Cycle: Oedipus Rex, Oedipus at Colonus, Antigone', 'Antigone (Translations from Greek Drama)', 'The Three Theban Plays: Antigone, Oedipus the King, Oedipus at Colonus', 'Ajax / Electra / Oedipus Tyrannus', 'Antigone (Greek and Latin Classics)', 'Sophocles I: Oedipus the King, Oedipus at Colonus, Antigone (Complete Greek Tragedies)', 'Theban Plays', \"The Theban Plays (Everyman's Library, #93)\", 'Electra and Other Plays', 'Antigone; Oedipus the King; Electra', \"Sophocles' Antigone\", 'Sophocles Plays 2: Ajax, Women of Trachis, Electra, Philoctetes', 'Oedipus Rex  (The Theban Plays, #1)', 'The Oedipus Plays of Sophocles', 'Oedipus Rex', 'Sophocles 1: Ajax/Women of Trachis/Electra/Philoctetes', 'Oedipus Rex (Greek and Latin Classics)', 'Oedipus the King'], 1011: ['Four Plays: The Clouds/The Birds/Lysistrata/The Frogs', 'Three Plays by Aristophanes: Lysistrata/Women at the Thesmophoria/Assemblywomen', 'The Complete Plays', 'Aristophanes 1: The Acharnians/Peace/Celebrating Ladies/Wealth', 'Birds/Lysistrata/Women at the Thesmophoria (Loeb Classical Library 179)', 'Lysistrata / The Acharnians / The Clouds', 'Clouds/Wasps/Birds (Aristophanes 1)', 'Lysistrata and Other Plays', 'Acharnians', 'Clouds', 'Lysistrata', 'Clouds', 'Clouds/Wasps/Peace']}\n"
     ]
    }
   ],
   "source": [
    "import pandas as pd\n",
    "\n",
    "def create_author_book_dictionary():\n",
    "    author_book_dict = {}\n",
    "    data = pd.read_json('lighter_books.json', lines=True, nrows=1000)\n",
    "\n",
    "    for index, row in data.iterrows():\n",
    "        author_id = row['author_id']\n",
    "        book_title = row['title']\n",
    "\n",
    "        # Check if the author ID has already been registered and append the book title\n",
    "        if author_id in author_book_dict:\n",
    "            author_book_dict[author_id].append(book_title)\n",
    "        else:\n",
    "            author_book_dict[author_id] = [book_title]\n",
    "\n",
    "    return author_book_dict\n",
    "\n",
    "result = create_author_book_dictionary()\n",
    "# Print the dictionary or do further processing\n",
    "print(result)\n"
   ]
  },
  {
   "cell_type": "markdown",
   "id": "fa6ff6f6",
   "metadata": {},
   "source": [
    "\n",
    " - What is the longest book title among the books of the top 20 authors regarding their average rating? Is it the longest book title overall?"
   ]
  },
  {
   "cell_type": "code",
   "execution_count": 14,
   "id": "50125b5e",
   "metadata": {},
   "outputs": [
    {
     "name": "stdout",
     "output_type": "stream",
     "text": [
      "The book with the longest title regarding the top 20 average rating is : Fanaroff and Martin's Neonatal-Perinatal Medicine: Diseases of the Fetus and Infant (Expert Consult - Online and Print) (2-Volume Set)\n",
      "But it's not the longest book we have in this library !\n"
     ]
    }
   ],
   "source": [
    "#store simultaneously the 20 best rating of books and their title then from this list do the same operation as below\n",
    "import pandas as pd\n",
    "\n",
    "# Create a DataFrame\n",
    "df = pd.read_json('lighter_books.json', lines=True, nrows=10000)\n",
    "\n",
    "# Sort the DataFrame by the 'Rating' column in descending order\n",
    "df_sorted = df.sort_values(by='average_rating', ascending=False)\n",
    "\n",
    "# Select the top 20 best-rated books\n",
    "top_20_books = df_sorted.head(20)\n",
    "\n",
    "# Initialize variables to track the book with the greatest number of characters\n",
    "max_length = 0\n",
    "max_length_title = None\n",
    "max_length2 = 0\n",
    "max_length_title2 = None\n",
    "\n",
    "# Iterate through the top 20 books and find the one with the greatest number of characters\n",
    "for index, row in top_20_books.iterrows():\n",
    "    title = row['title']\n",
    "    length = len(title)\n",
    "    \n",
    "    if length > max_length:\n",
    "        max_length = length\n",
    "        max_length_title = title\n",
    "        \n",
    "for index, row in df.iterrows():\n",
    "    title = row['title']\n",
    "    length = len(title)\n",
    "    \n",
    "    if length > max_length2:\n",
    "        max_length2 = length\n",
    "        max_length_title2 = title\n",
    "\n",
    "# Print the book with the greatest number of characters\n",
    "print(f\"The book with the longest title regarding the top 20 average rating is : {max_length_title}\")\n",
    "if max_length2 == max_length:\n",
    "    print(\"It is also the longest book of this library\")\n",
    "else:\n",
    "    print(\"But it's not the longest book we have in this library !\")"
   ]
  },
  {
   "cell_type": "markdown",
   "id": "ce22a314",
   "metadata": {},
   "source": [
    " - What is the shortest overall book title in the dataset ? If you find something strange, provide a comment on what happened and an alternative answer."
   ]
  },
  {
   "cell_type": "code",
   "execution_count": 15,
   "id": "6c50e622",
   "metadata": {},
   "outputs": [
    {
     "name": "stdout",
     "output_type": "stream",
     "text": [
      "The book with the shortest title is : V.\n"
     ]
    }
   ],
   "source": [
    "import pandas as pd\n",
    "\n",
    "# Create a DataFrame\n",
    "df = pd.read_json('lighter_books.json', lines=True, nrows=10000)\n",
    "\n",
    "# Initialize variables to track the book with the shortest number of characters, here we take 100 supposing that all the titles have a longer name than that\n",
    "min_length = 100\n",
    "min_length_title = None\n",
    "\n",
    "for index, row in df.iterrows():\n",
    "    title = row['title']\n",
    "    length = len(title)\n",
    "    \n",
    "    if length < min_length:\n",
    "        min_length = length\n",
    "        min_length_title = title\n",
    "\n",
    "# Print the book with the greatest number of characters\n",
    "print(f\"The book with the shortest title is : {min_length_title}\")\n"
   ]
  }
 ],
 "metadata": {
  "kernelspec": {
   "display_name": "Python 3 (ipykernel)",
   "language": "python",
   "name": "python3"
  },
  "language_info": {
   "codemirror_mode": {
    "name": "ipython",
    "version": 3
   },
   "file_extension": ".py",
   "mimetype": "text/x-python",
   "name": "python",
   "nbconvert_exporter": "python",
   "pygments_lexer": "ipython3",
   "version": "3.11.5"
  }
 },
 "nbformat": 4,
 "nbformat_minor": 5
}
