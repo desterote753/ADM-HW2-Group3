{
 "cells": [
  {
   "cell_type": "code",
   "execution_count": 18,
   "metadata": {},
   "outputs": [
    {
     "name": "stdout",
     "output_type": "stream",
     "text": [
      "current shelf looks like [11, 75, 20, 30]\n",
      "searched book_id 75\n",
      "searched book_id is on position -1\n",
      "first book from the left is on position: -2\n",
      "first book from the right is on position: 1\n",
      "distance from the left: 1\n",
      "distance from the right: 2\n",
      "minimal distance is:\n",
      "1\n",
      "current shelf looks like [15, 12, 11, 75, 20, 30]\n",
      "searched book_id 20\n",
      "searched book_id is on position 0\n",
      "first book from the left is on position: -4\n",
      "first book from the right is on position: 1\n",
      "distance from the left: 4\n",
      "distance from the right: 1\n",
      "minimal distance is:\n",
      "1\n"
     ]
    }
   ],
   "source": [
    "# if dictionary stores the values in a binary (sorted) tree, we can access each element in log(n)-time-complexity.\n",
    "# i.e. we are in O(k*log(n)) where k = number of type 3 commands and n = number of input rows.\n",
    "# We don't care about n or n-1 here, since we are answering questions of asymptoticity.\n",
    "\n",
    "# We assume the shelf to be empty at the beginning!\n",
    "\n",
    "n = int(input())\n",
    "shelf = {}\n",
    "regularshelf = []\n",
    "leftmost = -1 # closest free position on the left # correct?\n",
    "rightmost = 0 # closest free position on the right # correct?\n",
    "for _ in range(n):\n",
    "    command, book_id = input().split()\n",
    "    if command == \"L\":\n",
    "        regularshelf = [int(book_id)] + regularshelf\n",
    "        shelf[int(book_id)]=leftmost\n",
    "        leftmost -= 1\n",
    "        continue\n",
    "    if command == \"R\":\n",
    "        regularshelf.append(int(book_id))\n",
    "        shelf[int(book_id)]=rightmost\n",
    "        rightmost += 1\n",
    "        continue\n",
    "    if command == \"?\":\n",
    "        print(\"current shelf looks like\", regularshelf) # We assume that the whole list is stored as once. I.e. this step can be performed in constant time. If not just delete this line and the algorithm still works. \n",
    "        print(\"searched book_id\", int(book_id))\n",
    "        print(\"searched book_id is on position\", shelf[int(book_id)])\n",
    "        print(\"first book from the left is on position:\", leftmost + 1  )\n",
    "        print(\"first book from the right is on position:\", rightmost - 1  )\n",
    "        print(\"distance from the left:\", shelf[int(book_id)] - (leftmost + 1))\n",
    "        print(\"distance from the right:\", (rightmost - 1) - shelf[int(book_id)] )\n",
    "        print(\"minimal distance is:\")\n",
    "        print(min( shelf[int(book_id)] - (leftmost + 1) , (rightmost - 1) - shelf[int(book_id)]))    \n",
    "\n"
   ]
  },
  {
   "cell_type": "code",
   "execution_count": null,
   "metadata": {},
   "outputs": [],
   "source": []
  },
  {
   "cell_type": "code",
   "execution_count": 9,
   "metadata": {},
   "outputs": [
    {
     "data": {
      "text/plain": [
       "['asldkfj', 'aslkdjflaksd']"
      ]
     },
     "execution_count": 9,
     "metadata": {},
     "output_type": "execute_result"
    }
   ],
   "source": [
    "\" asldkfj   aslkdjflaksd \".split()"
   ]
  }
 ],
 "metadata": {
  "kernelspec": {
   "display_name": "Python 3",
   "language": "python",
   "name": "python3"
  },
  "language_info": {
   "codemirror_mode": {
    "name": "ipython",
    "version": 3
   },
   "file_extension": ".py",
   "mimetype": "text/x-python",
   "name": "python",
   "nbconvert_exporter": "python",
   "pygments_lexer": "ipython3",
   "version": "3.9.5"
  }
 },
 "nbformat": 4,
 "nbformat_minor": 2
}
