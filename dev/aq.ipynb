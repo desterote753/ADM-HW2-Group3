{
 "cells": [
  {
   "cell_type": "markdown",
   "metadata": {},
   "source": [
    "### Algorithmic Question\n",
    "\n",
    "1. Implement a code to answer the problem on https://github.com/Sapienza-University-Rome/ADM/tree/master/2023/Homework_2 . \n",
    "2. Ask ChatGPT or any other LLM chatbot tool to check your code's time complexity (the Big O notation). Do you believe this is correct? How can you double-check it? Elaborate about your answer.\n",
    "3. Is the algorithm proposed in (1.) the optimal one to produce the required output? If not, can you suggest a better algorithm to perform the same task?"
   ]
  },
  {
   "cell_type": "markdown",
   "metadata": {},
   "source": [
    "#### ad 1.\n",
    "We solve the task by implementing a dictionary. The dictionary's keys are the book IDs. The value of each book ID represents its position.\n",
    "\n",
    "If the boss asks for a book by \"? N\" we can deliver the minimal number of books to be popped in constant time (calculation follows in 2.).\n",
    "\n",
    "The time to create the shelf is of course O(n). But this is the time which is needed for the input. Hence irrelevant.\n",
    "\n",
    "Further we supply a method to visualize the library in an ordinary list."
   ]
  },
  {
   "cell_type": "code",
   "execution_count": 33,
   "metadata": {},
   "outputs": [],
   "source": [
    "# visualization of the shelf\n",
    "visualizeIt = False\n",
    "def visualizeShelf(my_dict):\n",
    "    \"\"\"\n",
    "    takes a dictionary consisting of integer keys and integers values.\n",
    "    Returns a list of the keys where the keys are sorted by their values.\n",
    "    \"\"\"\n",
    "    return [ k for k,v in sorted(my_dict.items(), key=lambda x: x[1])]"
   ]
  },
  {
   "cell_type": "code",
   "execution_count": 34,
   "metadata": {},
   "outputs": [
    {
     "name": "stdout",
     "output_type": "stream",
     "text": [
      "1\n",
      "1\n"
     ]
    }
   ],
   "source": [
    "n = int(input())\n",
    "shelf = {}\n",
    "leftmost = -1 # next free position on the left\n",
    "rightmost = 0 # next free position on the right\n",
    "for _ in range(n):\n",
    "    command, book_id = input().split()\n",
    "    if command == \"L\":\n",
    "        shelf[int(book_id)]=leftmost\n",
    "        leftmost -= 1\n",
    "        continue\n",
    "    if command == \"R\":\n",
    "        shelf[int(book_id)]=rightmost\n",
    "        rightmost += 1\n",
    "        continue\n",
    "    if command == \"?\":\n",
    "        # print(\"searched book_id\", int(book_id))\n",
    "        # print(\"searched book_id is on position\", shelf[int(book_id)])\n",
    "        # print(\"first book from the left is on position:\", leftmost + 1  )\n",
    "        # print(\"first book from the right is on position:\", rightmost - 1  )\n",
    "        # print(\"distance from the left:\", shelf[int(book_id)] - (leftmost + 1))\n",
    "        # print(\"distance from the right:\", (rightmost - 1) - shelf[int(book_id)] )\n",
    "        # print(\"minimal distance is:\")\n",
    "        if visualizeIt:\n",
    "            print('current shelf looks like:', visualizeShelf(shelf))\n",
    "        print(min( shelf[int(book_id)] - (leftmost + 1) , (rightmost - 1) - shelf[int(book_id)]))\n",
    "\n",
    "\n"
   ]
  },
  {
   "cell_type": "markdown",
   "metadata": {},
   "source": [
    "#### Ad 2.\n",
    "*We are considering \"Is this correct?\" referring to the answer of ChatGPT and not the code itself. Furhter we are considering visualizeIt to be **false**.*\n",
    "\n",
    "**Question asked to ChatGPT:**\n",
    "\n",
    "Estimate the time complexity of the following code, especially for the \"?\"-Command and in the \"?\"-case respectively: [above code inserted]\n",
    "\n",
    "**Answer by ChatGPT:**\n",
    "\n",
    "The time complexity of the provided code is as follows:\n",
    "\n",
    "- For the \"L\" and \"R\" commands, the time complexity is **O(1)**. This is because adding an element to a dictionary in Python is a constant time operation.\n",
    "\n",
    "- For the \"?\" command, the time complexity is also **O(1)**. This is because looking up an element in a Python dictionary is a constant time operation, and the mathematical operations (like subtraction and the min function) are also constant time operations.\n",
    "\n",
    "So overall, the time complexity of the code is **O(n)**, where **n** is the number of commands to be executed. This is due to the fact that each command is executed once in a for loop. Each command has a constant time complexity, so the total time complexity is linear with respect to the number of commands.\n",
    "\n",
    "**Resumé**\n",
    "\n",
    "The answer given by ChatGPT is correct. We can calculate it:\n",
    "Before the first (and only) loop there are only constant-time-operations\n",
    "- declaring variables, \n",
    "- initiating an empty dictionary, \n",
    "- taking one line of input.\n",
    "In the first (and only) loop there are again only constant-time-operations:\n",
    "- comparing two characters and evaluating the truth value,\n",
    "- writing a value and a key to a dictionary, \n",
    "- updating integers,\n",
    "- performing a \"continue\" (i.e. jump in the code),\n",
    "- looking up a value in dictionary (! this is done by hashing and hence constant!)\n",
    "- adding and substracting a finite and constant number of integers\n",
    "- calculating the minimum of a finite and constant number of integers\n",
    "\n",
    "Since every computation inside the loop needs only constant time and there are finitely many computations inside the loop, the loop itself has time-complexity O(n), where n is the number of iterations of the loop or the number of incoming commands, respectively.\n",
    "Since before the loop there are only constant-timte-computations and there is no code after the loop we have a time-complexity for the whole code of O(n).\n",
    "\n",
    "As said above by hashing it is possible to access a value of a given key in a dictionary in constant time. Hence the ?-command is performed in constant time. \n",
    "\n",
    "\n",
    "\n",
    "\n",
    "\n",
    "\n"
   ]
  },
  {
   "cell_type": "markdown",
   "metadata": {},
   "source": [
    "### ad 3.\n",
    "**Concerning the whole Code:**\n",
    "\n",
    "Given that the way the input is supplied is fixed the time complexity of the whole code is optimal, since its time-complexity is determined by the way the input is supplied.\n",
    "If the way the input is supplied is not fixed one could alternatively think about providing the input in one line. Then one could split, which can be done faster than in O(n). For example consider a string with n entries, each separated by a comma. Then similiar to a binary-tree it could be split easily (parallely) in O(log(n)). If the input could be directly transformed into a dictionary even faster input is thinkable.\n",
    "\n",
    "**Concerning the \"?\"-command**\n",
    "\n",
    "By the choice of our model of time-complexity (where reading an integer takes constant time (as well as writing an integer)), performing the \"?\"-command in O(1) is optimal.\n",
    "\n",
    "\n",
    "\n"
   ]
  }
 ],
 "metadata": {
  "kernelspec": {
   "display_name": "Python 3",
   "language": "python",
   "name": "python3"
  },
  "language_info": {
   "codemirror_mode": {
    "name": "ipython",
    "version": 3
   },
   "file_extension": ".py",
   "mimetype": "text/x-python",
   "name": "python",
   "nbconvert_exporter": "python",
   "pygments_lexer": "ipython3",
   "version": "3.9.5"
  }
 },
 "nbformat": 4,
 "nbformat_minor": 2
}
