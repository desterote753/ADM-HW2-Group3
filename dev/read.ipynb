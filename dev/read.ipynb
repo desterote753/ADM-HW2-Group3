{
 "cells": [
  {
   "cell_type": "code",
   "execution_count": 4,
   "metadata": {},
   "outputs": [],
   "source": [
    "import pandas as pd\n",
    "import matplotlib.pyplot as plt\n",
    "import os\n",
    "import json\n",
    "\n"
   ]
  },
  {
   "cell_type": "code",
   "execution_count": null,
   "metadata": {},
   "outputs": [],
   "source": [
    "# # load config\n",
    "# with open('config.json') as f:\n",
    "#     param0 = json.load(f)"
   ]
  },
  {
   "cell_type": "code",
   "execution_count": 32,
   "metadata": {},
   "outputs": [
    {
     "data": {
      "text/plain": [
       "{'datadir': None, 'doesntMatter': None}"
      ]
     },
     "execution_count": 32,
     "metadata": {},
     "output_type": "execute_result"
    }
   ],
   "source": [
    "# load config\n",
    "cfg = json.load(open('config.json')) # <- with this code: closing is necessary. Hence use to the one above whenever possible.\n",
    "# print empty config\n",
    "{ k:None for k in cfg.keys() } # you need to create a coherent config-file to run this code."
   ]
  },
  {
   "cell_type": "code",
   "execution_count": 33,
   "metadata": {},
   "outputs": [],
   "source": [
    "# load data\n",
    "# filename = \"lighter_authors\"\n",
    "filename = \"lighter_books\"\n",
    "path = os.path.join(cfg[\"datadir\"], filename + '.' + \"json\")\n",
    "\n"
   ]
  },
  {
   "cell_type": "code",
   "execution_count": 34,
   "metadata": {},
   "outputs": [
    {
     "name": "stdout",
     "output_type": "stream",
     "text": [
      "   id                                              title  \\\n",
      "0   2  Harry Potter and the Order of the Phoenix (Har...   \n",
      "1   3  Harry Potter and the Sorcerer's Stone (Harry P...   \n",
      "2   4  Harry Potter and the Chamber of Secrets (Harry...   \n",
      "\n",
      "                                             authors   author_name  author_id  \\\n",
      "0  [{'id': '1077326', 'name': 'J.K. Rowling', 'ro...  J.K. Rowling    1077326   \n",
      "1  [{'id': '1077326', 'name': 'J.K. Rowling', 'ro...  J.K. Rowling    1077326   \n",
      "2                                               None  J.K. Rowling    1077326   \n",
      "\n",
      "   work_id        isbn         isbn13 asin language  ...     format  \\\n",
      "0  2809203  0439358078  9780439358071           eng  ...  Paperback   \n",
      "1  4640799                                      eng  ...  Hardcover   \n",
      "2  6231171  0439554896  9780439554893           eng  ...  Hardcover   \n",
      "\n",
      "  edition_information                                          image_url  \\\n",
      "0          US Edition  https://i.gr-assets.com/images/S/compressed.ph...   \n",
      "1     Library Edition  https://i.gr-assets.com/images/S/compressed.ph...   \n",
      "2                      https://i.gr-assets.com/images/S/compressed.ph...   \n",
      "\n",
      "         publisher num_pages series_id   series_name series_position  \\\n",
      "0  Scholastic Inc.       870     45175  Harry Potter               5   \n",
      "1   Scholastic Inc       309     45175  Harry Potter               1   \n",
      "2       Scholastic       352     45175  Harry Potter               2   \n",
      "\n",
      "                                             shelves  \\\n",
      "0  [{'name': 'to-read', 'count': 324191}, {'name'...   \n",
      "1  [{'name': 'fantasy', 'count': 63540}, {'name':...   \n",
      "2  [{'name': 'to-read', 'count': 282341}, {'name'...   \n",
      "\n",
      "                                         description  \n",
      "0  There is a door at the end of a silent corrido...  \n",
      "1  Harry Potter's life is miserable. His parents ...  \n",
      "2  The Dursleys were so mean and hideous that sum...  \n",
      "\n",
      "[3 rows x 26 columns]\n"
     ]
    },
    {
     "data": {
      "image/png": "[encoded data removed]",
      "text/plain": [
       "<Figure size 432x288 with 1 Axes>"
      ]
     },
     "metadata": {
      "needs_background": "light"
     },
     "output_type": "display_data"
    }
   ],
   "source": [
    "\n",
    "chunks = pd.read_json(path, lines=True, chunksize = 3)\n",
    "for chunk in chunks:\n",
    "    print(chunk) # acces denied for image_urls\n",
    "    # print(chunk.describe())\n",
    "    chunk.plot()\n",
    "    plt.show()\n",
    "    break\n",
    "    "
   ]
  }
 ],
 "metadata": {
  "kernelspec": {
   "display_name": "Python 3",
   "language": "python",
   "name": "python3"
  },
  "language_info": {
   "codemirror_mode": {
    "name": "ipython",
    "version": 3
   },
   "file_extension": ".py",
   "mimetype": "text/x-python",
   "name": "python",
   "nbconvert_exporter": "python",
   "pygments_lexer": "ipython3",
   "version": "3.9.5"
  }
 },
 "nbformat": 4,
 "nbformat_minor": 2
}
