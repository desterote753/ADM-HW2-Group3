{
 "cells": [
  {
   "cell_type": "code",
   "execution_count": 2,
   "metadata": {},
   "outputs": [
    {
     "name": "stderr",
     "output_type": "stream",
     "text": [
      "c:\\Users\\Daniel\\AppData\\Local\\Programs\\Python\\Python39\\lib\\site-packages\\scipy\\__init__.py:146: UserWarning: A NumPy version >=1.16.5 and <1.23.0 is required for this version of SciPy (detected version 1.26.1\n",
      "  warnings.warn(f\"A NumPy version >={np_minversion} and <{np_maxversion}\"\n"
     ]
    },
    {
     "name": "stdout",
     "output_type": "stream",
     "text": [
      "No module named 'google.colab'\n",
      "chunksize set to 10000\n",
      "nrows set to 30000\n"
     ]
    }
   ],
   "source": [
    "import pandas as pd\n",
    "pd.set_option('display.max_columns', None)\n",
    "#import functions and processing\n",
    "import functions\n",
    "import processing\n",
    "# loading the path to our data from a config-file\n",
    "datadir = None\n",
    "try:\n",
    "    from google.colab import drive\n",
    "    drive.mount('/content/drive')\n",
    "    datadir = \"cloud\"\n",
    "except Exception as e:\n",
    "    print(e)\n",
    "    datadir = \"harddrive\"\n",
    "data_path = functions.get_from_config(datadir)\n",
    "processing.initialize_processing_parameters_from_config()"
   ]
  },
  {
   "cell_type": "markdown",
   "metadata": {},
   "source": [
    "## Research questions [RQs]\n",
    "### [RQ1]"
   ]
  },
  {
   "cell_type": "markdown",
   "metadata": {},
   "source": [
    "### [RQ7] \n",
    "Estimating probabilities is a core skill for a data scientist: show us your best!\n",
    "\n",
    "1. Estimate the probability that a book has over 30% of the ratings above 4.\n",
    "2. Estimate the probability that an author publishes a new book within two years from its last work.\n",
    "3. In the file list.json, you will find a peculiar list named \"The Worst Books of All Time.\" Estimate the probability of a book being included in this list, knowing it has more than 700 pages.\n",
    "4. Are the events X=’Being Included in The Worst Books of All Time list’ and Y=’Having more than 700 pages’ independent? Explain how you have obtained your answer."
   ]
  },
  {
   "cell_type": "markdown",
   "metadata": {},
   "source": [
    "#### ad 1.\n",
    "Estimate the probability that a book has over 30% of the ratings above 4."
   ]
  },
  {
   "cell_type": "markdown",
   "metadata": {},
   "source": [
    "After inspecting the .json-file \"lighter_authors\" we decided to use the attribute \"rate_dist\".\n",
    "First we took a look at the format of this attribute and examined its general structure is\n",
    "\n",
    "'rating_dist': '5:1674064|4:664833|3:231195|2:41699|1:16215|total:2628006'\n",
    "\n",
    "Just with different numbers, we build our functions to process this information as the following code shows:"
   ]
  },
  {
   "cell_type": "code",
   "execution_count": 2,
   "metadata": {},
   "outputs": [
    {
     "name": "stdout",
     "output_type": "stream",
     "text": [
      "The process lasted approximately 0.24 seconds.\n",
      "We have found 251 books with 30 Percent of ratings above 4\n",
      "We have found 300 books with at least one rating\n",
      "The share of books with 30Percent of ratings above 4 is approximately:  0.8367\n",
      "The process lasted approximately 0.24 seconds.\n"
     ]
    }
   ],
   "source": [
    "books_with_30Percent_of_ratings_above_4, books_with_at_least_one_rating = processing.answer_rq_7_1(data_path)"
   ]
  },
  {
   "cell_type": "markdown",
   "metadata": {},
   "source": [
    "### ad 2.\n",
    "Estimate the probability that an author publishes a new book within two years from its last work."
   ]
  },
  {
   "cell_type": "code",
   "execution_count": 3,
   "metadata": {},
   "outputs": [
    {
     "name": "stdout",
     "output_type": "stream",
     "text": [
      "0.2857 is the probability that an author publishes a book within 2 years\n",
      "The process lasted approximately 0.19 seconds.\n"
     ]
    }
   ],
   "source": [
    "results = processing.answer_rq_7_2(data_path)"
   ]
  },
  {
   "cell_type": "markdown",
   "metadata": {},
   "source": [
    "### ad 3. & 4.\n",
    "3. In the file list.json, you will find a peculiar list named \"The Worst Books of All Time.\" Estimate the probability of a book being included in this list, knowing it has more than 700 pages.\n",
    "4. Are the events X=’Being Included in The Worst Books of All Time list’ and Y=’Having more than 700 pages’ independent? Explain how you have obtained your answer."
   ]
  },
  {
   "cell_type": "markdown",
   "metadata": {},
   "source": [
    "The fisher test is an excat hypothesis test to check independence of two binary features like given in 4."
   ]
  },
  {
   "cell_type": "code",
   "execution_count": 3,
   "metadata": {},
   "outputs": [
    {
     "name": "stdout",
     "output_type": "stream",
     "text": [
      "The process lasted approximately 40.27 seconds.\n",
      "The process lasted approximately 6.11 seconds.\n",
      "the contingency table looks like:\n"
     ]
    },
    {
     "data": {
      "text/html": [
       "<div>\n",
       "<style scoped>\n",
       "    .dataframe tbody tr th:only-of-type {\n",
       "        vertical-align: middle;\n",
       "    }\n",
       "\n",
       "    .dataframe tbody tr th {\n",
       "        vertical-align: top;\n",
       "    }\n",
       "\n",
       "    .dataframe thead th {\n",
       "        text-align: right;\n",
       "    }\n",
       "</style>\n",
       "<table border=\"1\" class=\"dataframe\">\n",
       "  <thead>\n",
       "    <tr style=\"text-align: right;\">\n",
       "      <th>gt700</th>\n",
       "      <th>False</th>\n",
       "      <th>True</th>\n",
       "    </tr>\n",
       "    <tr>\n",
       "      <th>oneOftheWorst</th>\n",
       "      <th></th>\n",
       "      <th></th>\n",
       "    </tr>\n",
       "  </thead>\n",
       "  <tbody>\n",
       "    <tr>\n",
       "      <th>False</th>\n",
       "      <td>27829</td>\n",
       "      <td>1499</td>\n",
       "    </tr>\n",
       "    <tr>\n",
       "      <th>True</th>\n",
       "      <td>1272</td>\n",
       "      <td>87</td>\n",
       "    </tr>\n",
       "  </tbody>\n",
       "</table>\n",
       "</div>"
      ],
      "text/plain": [
       "gt700          False  True \n",
       "oneOftheWorst              \n",
       "False          27829   1499\n",
       "True            1272     87"
      ]
     },
     "execution_count": 3,
     "metadata": {},
     "output_type": "execute_result"
    }
   ],
   "source": [
    "worst_book_ids_of_all_time_set = processing.get_worst_book_ids_of_all_time(data_path)\n",
    "contingency_table = processing.get_contingency_table_for_rq_7_3(data_path, worst_book_ids_of_all_time_set)\n",
    "print(\"the contingency table looks like:\")\n",
    "contingency_table"
   ]
  },
  {
   "cell_type": "code",
   "execution_count": 5,
   "metadata": {},
   "outputs": [
    {
     "name": "stdout",
     "output_type": "stream",
     "text": [
      "Now we can provide the answer to 3.\n",
      "by computing the ratio of the entry for \"gt700 and oneOftheWorst\", which is  8 ,\n",
      "divided by the number of books with over 700 pages, which is 29 .\n",
      "This yields a probability of approximately: 0.2759\n"
     ]
    }
   ],
   "source": [
    "res = processing.answer_rq_7_3(contingency_table)"
   ]
  },
  {
   "cell_type": "code",
   "execution_count": 6,
   "metadata": {},
   "outputs": [
    {
     "name": "stdout",
     "output_type": "stream",
     "text": [
      "assuming a test-level of alpha = 0.05\n",
      "Since the pvalue is approximately 0.011798 , i.e. less than or equal to alpha, \n",
      "there's significance for dependence.\n"
     ]
    }
   ],
   "source": [
    "# now performing the fisher test for answering independency\n",
    "pval = processing.perform_fisher_test_and_interprete(contingency_table, alpha = 0.05)"
   ]
  },
  {
   "cell_type": "markdown",
   "metadata": {},
   "source": [
    "### [RQ8]\n",
    "Charts, statistical tests, and analysis methods are splendid tools to illustrate your data-driven decisions to check whether a hypothesis is correct.\n",
    "\n",
    "1. Can you demonstrate that readers usually rate the longest books as the worst?\n",
    "2. Compare the average rate distribution for English and non-English books with a proper statistical procedure. What can you conclude about those two groups?\n",
    "3. About the two groups in the previous question, extract helpful statistics like mode, mean, median, and quartiles, explaining their role in a box plot.\n",
    "4. It seems reasonable to assume that authors with more fans should have more reviews, but maybe their fans are a bit lazy. Confirm or reject this with a convenient statistical test or a predictive model.\n",
    "5. Provide a short survey about helpful statistical tests in data analysis and mining: focus on hypothesis design and the difference between parametric and nonparametric tests, explaining the reasons behind the choice of one of these two tests."
   ]
  },
  {
   "cell_type": "markdown",
   "metadata": {},
   "source": [
    "#### ad 1.\n",
    "Can you demonstrate that readers usually rate the longest books as the worst?\n"
   ]
  },
  {
   "cell_type": "code",
   "execution_count": 7,
   "metadata": {},
   "outputs": [
    {
     "name": "stdout",
     "output_type": "stream",
     "text": [
      "The process lasted approximately 0.16 seconds.\n"
     ]
    },
    {
     "data": {
      "text/plain": [
       "<AxesSubplot:xlabel='log10(num_pages)', ylabel='average_rating'>"
      ]
     },
     "execution_count": 7,
     "metadata": {},
     "output_type": "execute_result"
    },
    {
     "data": {
      "image/png": "[encoded data removed]",
      "text/plain": [
       "<Figure size 432x288 with 1 Axes>"
      ]
     },
     "metadata": {
      "needs_background": "light"
     },
     "output_type": "display_data"
    }
   ],
   "source": [
    "books_df = processing.answer_rq_8_1(data_path)\n",
    "books_df.plot.scatter(y='average_rating', x='log10(num_pages)', alpha = 0.002)\n"
   ]
  },
  {
   "cell_type": "markdown",
   "metadata": {},
   "source": [
    "The scatterplot shows rather the opposite. Starting from 10^2.5 pages the average ratings are increasing with increasing number of pages and concentrating around 4.5.\n",
    "\n",
    "Considering only the books with up to 10^2.5 pages, we see that the variance in the average rating increases and the mean seems to decrease."
   ]
  },
  {
   "cell_type": "markdown",
   "metadata": {},
   "source": [
    "#### ad 2.\n",
    "Compare the average rate distribution for English and non-English books with a proper statistical procedure. What can you conclude about those two groups?\n",
    "\n",
    "After removing the books where no language is given we group the books by english or non-english. When done this we perform a Kolmogorov-Smirnov-Test to compare the distribution of their average-rate (:=average-ratings)."
   ]
  },
  {
   "cell_type": "code",
   "execution_count": 8,
   "metadata": {},
   "outputs": [],
   "source": [
    "languages_set = processing.get_languages(data_path)"
   ]
  },
  {
   "cell_type": "markdown",
   "metadata": {},
   "source": [
    "We divided them into english, non-english and no-languages. The first and the latter we defined explicitly the one in the middle is defined to be the rest."
   ]
  },
  {
   "cell_type": "code",
   "execution_count": 9,
   "metadata": {},
   "outputs": [],
   "source": [
    "english_languages = {'en',\n",
    " 'en-CA',\n",
    " 'en-GB',\n",
    " 'en-IN',\n",
    " 'en-US',\n",
    " 'eng',\n",
    " 'enm'}\n",
    "no_languages = {'',\n",
    " '--',\n",
    " 'Select...',}"
   ]
  },
  {
   "cell_type": "code",
   "execution_count": 10,
   "metadata": {},
   "outputs": [
    {
     "name": "stdout",
     "output_type": "stream",
     "text": [
      "The process lasted approximately 0.11 seconds.\n"
     ]
    },
    {
     "data": {
      "text/html": [
       "<div>\n",
       "<style scoped>\n",
       "    .dataframe tbody tr th:only-of-type {\n",
       "        vertical-align: middle;\n",
       "    }\n",
       "\n",
       "    .dataframe tbody tr th {\n",
       "        vertical-align: top;\n",
       "    }\n",
       "\n",
       "    .dataframe thead th {\n",
       "        text-align: right;\n",
       "    }\n",
       "</style>\n",
       "<table border=\"1\" class=\"dataframe\">\n",
       "  <thead>\n",
       "    <tr style=\"text-align: right;\">\n",
       "      <th></th>\n",
       "      <th>average_rating</th>\n",
       "    </tr>\n",
       "    <tr>\n",
       "      <th>en</th>\n",
       "      <th></th>\n",
       "    </tr>\n",
       "  </thead>\n",
       "  <tbody>\n",
       "    <tr>\n",
       "      <th>False</th>\n",
       "      <td>[3.74, 3.93, 3.86, 3.99, 3.9, 3.28000000000000...</td>\n",
       "    </tr>\n",
       "    <tr>\n",
       "      <th>True</th>\n",
       "      <td>[4.5, 4.48, 4.43, 4.57, 4.5600000000000005, 4....</td>\n",
       "    </tr>\n",
       "  </tbody>\n",
       "</table>\n",
       "</div>"
      ],
      "text/plain": [
       "                                          average_rating\n",
       "en                                                      \n",
       "False  [3.74, 3.93, 3.86, 3.99, 3.9, 3.28000000000000...\n",
       "True   [4.5, 4.48, 4.43, 4.57, 4.5600000000000005, 4...."
      ]
     },
     "execution_count": 10,
     "metadata": {},
     "output_type": "execute_result"
    }
   ],
   "source": [
    "books_df, grouped_df = processing.get_eng_vs_non_eng(data_path, no_languages)\n",
    "grouped_df"
   ]
  },
  {
   "cell_type": "code",
   "execution_count": 11,
   "metadata": {},
   "outputs": [
    {
     "name": "stdout",
     "output_type": "stream",
     "text": [
      "assuming a test-level of alpha = 0.05\n",
      "Since the pvalue is approximately 0.331274 , i.e. strictly greater than alpha, \n",
      "there's no significance for a difference in the analyzed distributions.\n"
     ]
    }
   ],
   "source": [
    "# now performing the kolmogorov-smirnov-test to check equality of the two distributions:\n",
    "pval = processing.perform_ks2s_test_and_interprete(grouped_df.loc[False,'average_rating'], grouped_df.loc[True,'average_rating'], alpha=0.05)"
   ]
  },
  {
   "cell_type": "markdown",
   "metadata": {},
   "source": [
    "#### ad 3.\n",
    "About the two groups in the previous question, extract helpful statistics like mode, mean, median, and quartiles, explaining their role in a box plot."
   ]
  },
  {
   "cell_type": "markdown",
   "metadata": {},
   "source": [
    "Next we provide some (helpful) statistics and a boxplot. First we want to describe a boxplot as it is created by the method we use:\n",
    "\n",
    "\"The box extends from the first quartile (Q1) to the third quartile (Q3) of the data, with a line at the median. The whiskers extend from the box to the farthest data point lying within 1.5x the inter-quartile range (IQR) from the box. Flier points are those past the end of the whiskers.\"\n",
    "\n",
    "source: https://matplotlib.org/stable/api/_as_gen/matplotlib.pyplot.boxplot.html"
   ]
  },
  {
   "cell_type": "code",
   "execution_count": 12,
   "metadata": {},
   "outputs": [
    {
     "data": {
      "image/png": "[encoded data removed]",
      "text/plain": [
       "<Figure size 432x288 with 1 Axes>"
      ]
     },
     "metadata": {
      "needs_background": "light"
     },
     "output_type": "display_data"
    },
    {
     "data": {
      "text/html": [
       "<div>\n",
       "<style scoped>\n",
       "    .dataframe tbody tr th:only-of-type {\n",
       "        vertical-align: middle;\n",
       "    }\n",
       "\n",
       "    .dataframe tbody tr th {\n",
       "        vertical-align: top;\n",
       "    }\n",
       "\n",
       "    .dataframe thead th {\n",
       "        text-align: right;\n",
       "    }\n",
       "</style>\n",
       "<table border=\"1\" class=\"dataframe\">\n",
       "  <thead>\n",
       "    <tr style=\"text-align: right;\">\n",
       "      <th></th>\n",
       "      <th>ratings_count</th>\n",
       "      <th>average_rating</th>\n",
       "    </tr>\n",
       "  </thead>\n",
       "  <tbody>\n",
       "    <tr>\n",
       "      <th>count</th>\n",
       "      <td>2.180000e+02</td>\n",
       "      <td>218.000000</td>\n",
       "    </tr>\n",
       "    <tr>\n",
       "      <th>mean</th>\n",
       "      <td>2.423474e+05</td>\n",
       "      <td>3.983945</td>\n",
       "    </tr>\n",
       "    <tr>\n",
       "      <th>std</th>\n",
       "      <td>6.846628e+05</td>\n",
       "      <td>0.319393</td>\n",
       "    </tr>\n",
       "    <tr>\n",
       "      <th>min</th>\n",
       "      <td>5.000000e+00</td>\n",
       "      <td>2.850000</td>\n",
       "    </tr>\n",
       "    <tr>\n",
       "      <th>25%</th>\n",
       "      <td>9.052500e+02</td>\n",
       "      <td>3.812500</td>\n",
       "    </tr>\n",
       "    <tr>\n",
       "      <th>50%</th>\n",
       "      <td>9.984000e+03</td>\n",
       "      <td>3.970000</td>\n",
       "    </tr>\n",
       "    <tr>\n",
       "      <th>75%</th>\n",
       "      <td>1.243205e+05</td>\n",
       "      <td>4.177500</td>\n",
       "    </tr>\n",
       "    <tr>\n",
       "      <th>max</th>\n",
       "      <td>7.377351e+06</td>\n",
       "      <td>4.790000</td>\n",
       "    </tr>\n",
       "  </tbody>\n",
       "</table>\n",
       "</div>"
      ],
      "text/plain": [
       "       ratings_count  average_rating\n",
       "count   2.180000e+02      218.000000\n",
       "mean    2.423474e+05        3.983945\n",
       "std     6.846628e+05        0.319393\n",
       "min     5.000000e+00        2.850000\n",
       "25%     9.052500e+02        3.812500\n",
       "50%     9.984000e+03        3.970000\n",
       "75%     1.243205e+05        4.177500\n",
       "max     7.377351e+06        4.790000"
      ]
     },
     "execution_count": 12,
     "metadata": {},
     "output_type": "execute_result"
    }
   ],
   "source": [
    "from matplotlib import pyplot as plt\n",
    "plt.title(\"Boxplot of average ratings\")\n",
    "plt.boxplot([grouped_df.loc[True,'average_rating'], grouped_df.loc[False,'average_rating']], labels =[\"english books\",\"non-english books\"])\n",
    "plt.show()\n",
    "books_df.describe()"
   ]
  },
  {
   "cell_type": "markdown",
   "metadata": {},
   "source": [
    "Next we see the **mode** of ratings_count, average_rating, language and en.\"\n",
    "The mode is probably only useful for \"langauge\" and \"en\" since these are non-metric, even categorical.\n"
   ]
  },
  {
   "cell_type": "code",
   "execution_count": 13,
   "metadata": {},
   "outputs": [
    {
     "data": {
      "text/html": [
       "<div>\n",
       "<style scoped>\n",
       "    .dataframe tbody tr th:only-of-type {\n",
       "        vertical-align: middle;\n",
       "    }\n",
       "\n",
       "    .dataframe tbody tr th {\n",
       "        vertical-align: top;\n",
       "    }\n",
       "\n",
       "    .dataframe thead th {\n",
       "        text-align: right;\n",
       "    }\n",
       "</style>\n",
       "<table border=\"1\" class=\"dataframe\">\n",
       "  <thead>\n",
       "    <tr style=\"text-align: right;\">\n",
       "      <th></th>\n",
       "      <th>ratings_count</th>\n",
       "      <th>average_rating</th>\n",
       "      <th>language</th>\n",
       "      <th>en</th>\n",
       "    </tr>\n",
       "  </thead>\n",
       "  <tbody>\n",
       "    <tr>\n",
       "      <th>0</th>\n",
       "      <td>413477</td>\n",
       "      <td>3.83</td>\n",
       "      <td>eng</td>\n",
       "      <td>True</td>\n",
       "    </tr>\n",
       "    <tr>\n",
       "      <th>1</th>\n",
       "      <td>687398</td>\n",
       "      <td>NaN</td>\n",
       "      <td>NaN</td>\n",
       "      <td>NaN</td>\n",
       "    </tr>\n",
       "  </tbody>\n",
       "</table>\n",
       "</div>"
      ],
      "text/plain": [
       "   ratings_count  average_rating language    en\n",
       "0         413477            3.83      eng  True\n",
       "1         687398             NaN      NaN   NaN"
      ]
     },
     "execution_count": 13,
     "metadata": {},
     "output_type": "execute_result"
    }
   ],
   "source": [
    "books_df.mode()"
   ]
  },
  {
   "cell_type": "markdown",
   "metadata": {},
   "source": [
    "#### ad 4.\n",
    "It seems reasonable to assume that authors with more fans should have more reviews, but maybe their fans are a bit lazy. Confirm or reject this with a convenient statistical test or a predictive model."
   ]
  },
  {
   "cell_type": "code",
   "execution_count": 14,
   "metadata": {},
   "outputs": [
    {
     "name": "stdout",
     "output_type": "stream",
     "text": [
      "The process lasted approximately 0.09 seconds.\n"
     ]
    },
    {
     "name": "stderr",
     "output_type": "stream",
     "text": [
      "c:\\Users\\Daniel\\AppData\\Local\\Programs\\Python\\Python39\\lib\\site-packages\\sklearn\\utils\\validation.py:615: FutureWarning: is_sparse is deprecated and will be removed in a future version. Check `isinstance(dtype, pd.SparseDtype)` instead.\n",
      "  if not hasattr(array, \"sparse\") and array.dtypes.apply(is_sparse).any():\n",
      "c:\\Users\\Daniel\\AppData\\Local\\Programs\\Python\\Python39\\lib\\site-packages\\sklearn\\utils\\validation.py:615: FutureWarning: is_sparse is deprecated and will be removed in a future version. Check `isinstance(dtype, pd.SparseDtype)` instead.\n",
      "  if not hasattr(array, \"sparse\") and array.dtypes.apply(is_sparse).any():\n"
     ]
    },
    {
     "name": "stdout",
     "output_type": "stream",
     "text": [
      "We consider the rooted dataset since here the impact of outliers is lowered.\n",
      "slope is 1.6798652433613914\n",
      "intercept is 5053.626203043771\n",
      "R-squared-Coefficient is 0.6727881114179519\n",
      "Since the slope is significantly greater than zero \n",
      "we see that the more fans an author has the more text_reviews he has. \n",
      "Hence we can refuse the stated claim that fans of authors with more fans would be lazier. \n",
      "The R-squared-Coefficient is with approximately 0.67\n",
      "is at least half. Hence the model does explain some of the seen variance.\n"
     ]
    },
    {
     "data": {
      "image/png": "[encoded data removed]",
      "text/plain": [
       "<Figure size 432x288 with 1 Axes>"
      ]
     },
     "metadata": {
      "needs_background": "light"
     },
     "output_type": "display_data"
    },
    {
     "data": {
      "image/png": "[encoded data removed]",
      "text/plain": [
       "<Figure size 432x288 with 1 Axes>"
      ]
     },
     "metadata": {
      "needs_background": "light"
     },
     "output_type": "display_data"
    }
   ],
   "source": [
    "books_df = None # to free some memory\n",
    "authors_df = processing.get_data_on_lazyness(data_path)\n",
    "authors_df.plot.scatter(x='fans_count', y='text_reviews_count', alpha = 0.1)\n",
    "authors_df.plot.scatter(x='8th-root(fans_count)', y='8th-root(text_reviews_count)', alpha = 0.1)\n",
    "model, score = processing.perform_lin_regression(authors_df, 'fans_count', 'text_reviews_count'  )\n",
    "print('We consider the rooted dataset since here the impact of outliers is lowered.')\n",
    "processing.interprete_lin_regression(model,score)"
   ]
  },
  {
   "cell_type": "markdown",
   "metadata": {},
   "source": []
  },
  {
   "cell_type": "markdown",
   "metadata": {},
   "source": [
    "#### ad 5.\n",
    "Provide a short survey about helpful statistical tests in data analysis and mining: focus on hypothesis design and the difference between parametric and nonparametric tests, explaining the reasons behind the choice of one of these two tests."
   ]
  },
  {
   "cell_type": "markdown",
   "metadata": {},
   "source": [
    "##### Hypothesis testing:\n",
    "The alternative is (if possible) the claim we want to confirm. However sometimes it is not possible to choose what we want to claim as the alternative. For example if we are testing \"theta $=$ 0\" vs. \"theta $\\neq$ 0\" often it is only possible to choose \"theta==0\" as the hypothesis.\n",
    "\n",
    "Whenever we test hypotheses we need to determine a significance level, often called alpha, which determines the highest acceptable error of 1st kind, to determine if there's evidence for the alternative or not.\n",
    "\n",
    "###### (non-)parametric tests:\n",
    "Parametric tests assume that the distribution of data is known up to a paramter $\\theta \\in \\mathbb{R}^d$ for some $d \\in \\mathbb{N}$. Given that we know the distribution (with high probability) we should use these since they are more appropriate for our data.\n",
    "\n",
    "However if we don't know the distribution we should go for nonparametric tests, since these do not make assumptions on the distribution of the data. With less requirements for a tests one naturally gets less out of it, but few is better than nothing or something wrong.\n",
    "\n",
    "###### Some useful tests are...\n",
    "- fisher and chi-square for independence of binary resp. categorical variables\n",
    "- kolmogorov-smirnov or mann-whitney-u to compare two unknown distributions\n",
    "- regression tests\n",
    "  - (multiple) linear regression\n",
    "  - logistic regression\n",
    "  - polynomial regression\n"
   ]
  },
  {
   "cell_type": "markdown",
   "metadata": {},
   "source": []
  }
 ],
 "metadata": {
  "colab": {
   "provenance": []
  },
  "kernelspec": {
   "display_name": "Python 3 (ipykernel)",
   "language": "python",
   "name": "python3"
  },
  "language_info": {
   "codemirror_mode": {
    "name": "ipython",
    "version": 3
   },
   "file_extension": ".py",
   "mimetype": "text/x-python",
   "name": "python",
   "nbconvert_exporter": "python",
   "pygments_lexer": "ipython3",
   "version": "3.9.5"
  }
 },
 "nbformat": 4,
 "nbformat_minor": 4
}
