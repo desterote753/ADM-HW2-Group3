{
 "cells": [
  {
   "cell_type": "code",
   "execution_count": 1,
   "id": "e5800aa9-a72d-4011-91fd-fbbecb06a236",
   "metadata": {
    "tags": []
   },
   "outputs": [],
   "source": [
    "import pandas as pd\n",
    "import matplotlib.pyplot as plt\n",
    "import json\n",
    "import random\n",
    "import time"
   ]
  },
  {
   "cell_type": "code",
   "execution_count": 2,
   "id": "c528f6c9-ab1e-4d5b-91ff-90f5138bfbd4",
   "metadata": {
    "tags": []
   },
   "outputs": [],
   "source": [
    "\n",
    "datafile = \"/media/francesco/DATA/datasets/list.json\"\n",
    "chunk_size = 100\n",
    "\n",
    "data = pd.read_json(datafile, lines=True, chunksize=chunk_size, nrows=None)\n",
    "s_tot_tags = pd.Series()\n",
    "l = []\n",
    "\n",
    "start_time = time.perf_counter()\n",
    "for chunk in data:\n",
    "    df = pd.DataFrame(chunk)\n",
    "    tags = []\n",
    "    \n",
    "    for i in df.index:\n",
    "        if type(df.loc[i,'tags']) ==  type(l):\n",
    "            for e in df.loc[i,'tags']:\n",
    "                tags.append(str(e))\n",
    "    \n",
    "    s_tags = pd.Series(tags)\n",
    "    s_tot_tags = pd.concat([s_tot_tags,s_tags.value_counts()])\n",
    "    \n",
    "first_five = s_tot_tags.groupby(level=0).sum()\n",
    "first_five = first_five.sort_values(ascending=False)[:5]\n",
    "end_time = time.perf_counter()\n",
    "\n",
    "delta_time = end_time-start_time\n"
   ]
  },
  {
   "cell_type": "code",
   "execution_count": 3,
   "id": "ff5ab4ac-5fd6-47a9-87d5-2532ad821f56",
   "metadata": {
    "tags": []
   },
   "outputs": [
    {
     "name": "stdout",
     "output_type": "stream",
     "text": [
      "                 #usage\n",
      "Tags                   \n",
      "romance            6001\n",
      "fiction            5291\n",
      "young-adult        5016\n",
      "fantasy            3666\n",
      "science-fiction    2779\n",
      "\n",
      "\n",
      "\n",
      "The running time using the local machine is:  32.6833077299998\n"
     ]
    }
   ],
   "source": [
    "first_five = first_five.rename_axis(\"Tags\")\n",
    "first_five = pd.DataFrame(first_five)\n",
    "first_five.columns = ['#usage']\n",
    "print(first_five)\n",
    "print('\\n\\n')\n",
    "print('The running time using the local machine is: ',delta_time)"
   ]
  }
 ],
 "metadata": {
  "kernelspec": {
   "display_name": "Python 3 (ipykernel)",
   "language": "python",
   "name": "python3"
  },
  "language_info": {
   "codemirror_mode": {
    "name": "ipython",
    "version": 3
   },
   "file_extension": ".py",
   "mimetype": "text/x-python",
   "name": "python",
   "nbconvert_exporter": "python",
   "pygments_lexer": "ipython3",
   "version": "3.9.18"
  }
 },
 "nbformat": 4,
 "nbformat_minor": 5
}
